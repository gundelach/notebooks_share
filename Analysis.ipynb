{
 "cells": [
  {
   "cell_type": "markdown",
   "metadata": {},
   "source": [
    "# Analysis: Binding Free energies"
   ]
  },
  {
   "cell_type": "markdown",
   "metadata": {},
   "source": [
    "## Functions"
   ]
  },
  {
   "cell_type": "code",
   "execution_count": 1,
   "metadata": {},
   "outputs": [],
   "source": [
    "# Loads stuff\n",
    "import sys\n",
    "sys.path.insert(0,\"/home/lg3u19/OnePy\")\n",
    "import onetep_v0_1 as op\n",
    "import pathlib\n",
    "import pandas as pd\n",
    "pd.set_option('display.precision',3) \n",
    "import copy"
   ]
  },
  {
   "cell_type": "code",
   "execution_count": 2,
   "metadata": {},
   "outputs": [],
   "source": [
    "def cavity_correction(E_host_non_pol,E_complex_non_polar):\n",
    "    return 7.116*(E_host_non_pol-E_complex_non_polar)\n"
   ]
  },
  {
   "cell_type": "code",
   "execution_count": 3,
   "metadata": {},
   "outputs": [],
   "source": [
    "def binding_free_energy(complex_obj,host_obj,ligand_obj,units='Ha',host_cavity_correction=True,entropy=False):\n",
    "    delta_E = complex_obj.total_energy_vac - host_obj.total_energy_vac - ligand_obj.total_energy_vac\n",
    "    delta_solvation = complex_obj.total_solvation_energy - host_obj.total_solvation_energy - ligand_obj.total_solvation_energy\n",
    "    \n",
    "    if host_cavity_correction==True:\n",
    "        cavity_corr = cavity_correction(host_obj.total_apolar_energy,complex_obj.total_apolar_energy)\n",
    "        delta_solvation_corrected = delta_solvation + cavity_corr\n",
    "    else:\n",
    "        delta_solvation_corrected=delta_solvation\n",
    "    if entropy==False:   \n",
    "        binding_free_energy = delta_E + delta_solvation_corrected\n",
    "    else:\n",
    "        binding_free_energy = delta_E + delta_solvation_corrected - entropy\n",
    "     \n",
    "    if units=='Ha':\n",
    "        return delta_E,delta_solvation,delta_solvation_corrected,entropy,binding_free_energy\n",
    "    elif units=='kcal/mol':\n",
    "        return op.hartree_to_kcal_mol(delta_E),op.hartree_to_kcal_mol(delta_solvation),\\\n",
    "               op.hartree_to_kcal_mol(delta_solvation_corrected),\\\n",
    "               op.hartree_to_kcal_mol(entropy),op.hartree_to_kcal_mol(binding_free_energy)"
   ]
  },
  {
   "cell_type": "code",
   "execution_count": 4,
   "metadata": {},
   "outputs": [],
   "source": [
    "def exclude_function(snapshot,functional):\n",
    "    \"\"\" Functions that returns total energy in vac, solvation enerygm, and apolar energy\n",
    "    for given snapshots and functionals from data dictionary with pre-filled values\"\"\"\n",
    "    if functional == False:\n",
    "        print ('Needs to know functional')\n",
    "        return False\n",
    "    data = {'BLYP':{'complex_17201':{'E_vac':-11703.28810914757196,\n",
    "                             'E_solv':-11707.17781111132354,\n",
    "                             'apolar':2.33371847090407+-1.67776855169471},\n",
    "                    'host_17201':{'E_vac':-11642.52098752837628,\n",
    "                             'E_solv':-11646.40564469317906,\n",
    "                             'apolar':2.35343919310646+-1.69194627190406},\n",
    "                    'complex_24801':{'E_vac':-11703.26093899935950,\n",
    "                             'E_solv':-11707.23062178841792,\n",
    "                             'apolar':2.34244656224695+-1.68404339476339},\n",
    "                    'host_24801':{'E_vac':-11642.50372680707369,\n",
    "                             'E_solv':-11646.47373658255674,\n",
    "                             'apolar':2.35905073333339+-1.69598054846171},\n",
    "                    'complex_32401':{'E_vac':-11703.48681972792838,\n",
    "                             'E_solv':-11707.25277486920822,\n",
    "                             'apolar':2.36436511707726+-1.69980119179477}\n",
    "                   },\n",
    "            'VV10':{'complex_24801':{'E_vac':-11755.75196689821314,\n",
    "                             'E_solv':-11759.71220481162891,\n",
    "                             'apolar':2.27888540828097+-1.63834769214840},\n",
    "                    'host_24801':{'E_vac':-11694.67952414450701,\n",
    "                             'E_solv':-11698.63966000627261,\n",
    "                             'apolar':2.29724655713729+-1.65154798108993},\n",
    "                    'complex_32401':{'E_vac':-11755.99253040028270,\n",
    "                             'E_solv':-11759.76183088717517,\n",
    "                             'apolar':2.29984764129358+-1.65341796551699},\n",
    "                    'host_32401':{'E_vac':-11694.93358778918628,\n",
    "                             'E_solv':-11698.69660710869357,\n",
    "                             'apolar':2.32170136252029+-1.66912915204990}\n",
    "                    }}\n",
    "  \n",
    "    return data[functional][snapshot]['E_vac'],data[functional][snapshot]['E_solv']-data[functional][snapshot]['E_vac'],data[functional][snapshot]['apolar']\n",
    "    "
   ]
  },
  {
   "cell_type": "code",
   "execution_count": 5,
   "metadata": {},
   "outputs": [],
   "source": [
    "def get_average_binding_manual(outfile_dir,correction=True,exclude_list=[],functional=False,\n",
    "                        exclude_function=False,snapshots=False): \n",
    "    \"\"\" Given a directory of outfiles, returns df with relevant values for QMPBSA as \n",
    "    well as series object with averages over all snaphsots of these values\"\"\"\n",
    "    # create dictionary of onetep objects for each outfile\n",
    "    object_dict = op.load_out_files(outfile_dir,format_flag=True,\n",
    "                                    delim='_',split_num=0)\n",
    "    \n",
    "    \n",
    "    # determine which snapshots to process\n",
    "    if snapshots==False: # if false, use all snapshots present\n",
    "        # find out which snapshots we have\n",
    "        snapshots = []\n",
    "        for key in object_dict.keys():\n",
    "            snapshot = key.split(sep='_')[-1]\n",
    "            if snapshot not in snapshots:\n",
    "                snapshots.append(snapshot)\n",
    "    else: # if not false, a list of snapshots was passed\n",
    "        pass\n",
    "        \n",
    "    # laod data from onetep objects \n",
    "    # allows for excluded snapshots for some functionals for which a separate\n",
    "    # function is called to assign key values determine in advance from \n",
    "    # output files or restarted calculations\n",
    "    # exclude list must have accurate file names\n",
    "    for key in object_dict.keys():\n",
    "        object_dict[key].get_atom_counts()\n",
    "        object_dict[key].get_input_flags()\n",
    "        object_dict[key].get_dispersion()\n",
    "        if key in exclude_list:\n",
    "            vac,solvation,apolar = exclude_function(key,functional)\n",
    "            object_dict[key].total_energy_vac = vac\n",
    "            object_dict[key].total_solvation_energy = solvation\n",
    "            object_dict[key].total_apolar_energy = apolar\n",
    "            \n",
    "        else:\n",
    "            object_dict[key].check_is_auto_solvation()\n",
    "            object_dict[key].get_total_time()\n",
    "            object_dict[key].get_energy_conv()\n",
    "            object_dict[key].get_solvation_summary_new()\n",
    "        \n",
    "    # generate a df with values of interest\n",
    "    temp_dir = {}\n",
    "    for snapshot in snapshots:\n",
    "        temp_dir[snapshot]=binding_free_energy(object_dict['complex_'+snapshot],\n",
    "                                                          object_dict['host_'+snapshot],\n",
    "                                                          object_dict['ligand_'+snapshot],\n",
    "                                                          units='kcal/mol',host_cavity_correction=correction)\n",
    "    object_dict_bind = pd.DataFrame.from_dict(temp_dir,orient='index',\n",
    "                                              columns=['E','G_solv','G_solv_corrected','S','G_bind'])\n",
    "    object_dict_bind.drop(labels=['S'],axis='columns',inplace=True)\n",
    "    \n",
    "    return object_dict_bind, object_dict_bind.mean()"
   ]
  },
  {
   "cell_type": "code",
   "execution_count": 6,
   "metadata": {},
   "outputs": [],
   "source": [
    "def get_average_binding(outfile_dir,correction=True,snapshots=False): \n",
    "    \"\"\" Given a directory of outfiles, returns df with relevant values for QMPBSA as \n",
    "    well as series object with averages over all snaphsots of these values\"\"\"\n",
    "    # create dictionary of onetep objects for each outfile\n",
    "    object_dict = op.load_out_files(outfile_dir,format_flag=True,\n",
    "                                    delim='_',split_num=0)\n",
    "    # laod data from onetep objects \n",
    "    for key in object_dict.keys():\n",
    "        object_dict[key].check_is_auto_solvation()\n",
    "        object_dict[key].get_total_time()\n",
    "        object_dict[key].get_atom_counts()\n",
    "        object_dict[key].get_energy_conv()\n",
    "        object_dict[key].get_input_flags()\n",
    "        object_dict[key].get_solvation_summary_new()\n",
    "        object_dict[key].get_dispersion()\n",
    "        \n",
    "    # determine which snapshots to process\n",
    "    if snapshots==False: # if false, use all snapshots present\n",
    "        # find out which snapshots we have\n",
    "        snapshots = []\n",
    "        for key in object_dict.keys():\n",
    "            snapshot = key.split(sep='_')[-1]\n",
    "            if snapshot not in snapshots:\n",
    "                snapshots.append(snapshot)\n",
    "    else: # if not false, a list of snapshots was passed\n",
    "        pass\n",
    "        \n",
    "\n",
    "    # generate a df with values of interest\n",
    "    temp_dir = {}\n",
    "    for snapshot in snapshots:\n",
    "        temp_dir[snapshot]=binding_free_energy(object_dict['complex_'+snapshot],\n",
    "                                                          object_dict['host_'+snapshot],\n",
    "                                                          object_dict['ligand_'+snapshot],\n",
    "                                                          units='kcal/mol',host_cavity_correction=correction)\n",
    "    object_dict_bind = pd.DataFrame.from_dict(temp_dir,orient='index',\n",
    "                                              columns=['E','G_solv','G_solv_corrected','S','G_bind'])\n",
    "    object_dict_bind.drop(labels=['S'],axis='columns',inplace=True)\n",
    "    \n",
    "    return object_dict_bind, object_dict_bind.mean()"
   ]
  },
  {
   "cell_type": "code",
   "execution_count": 7,
   "metadata": {},
   "outputs": [],
   "source": [
    "def load_data(outfile_dir_root,functionals,correction=False,snapshots=False):\n",
    "    \"\"\" given directory of dat files, gets avera binding energies with or without cavity correction \"\"\"\n",
    "    list_of_mean_series = []\n",
    "    for functional in functionals:\n",
    "        outfile_dir = outfile_dir_root / functional\n",
    "        summary_df, mean_series = get_average_binding(outfile_dir,correction=correction,snapshots=snapshots)\n",
    "        mean_series.name = functional\n",
    "        list_of_mean_series.append(mean_series)\n",
    "    return pd.concat(list_of_mean_series,axis=1) \n",
    "    "
   ]
  },
  {
   "cell_type": "code",
   "execution_count": 50,
   "metadata": {},
   "outputs": [],
   "source": [
    "def load_data_all(outfile_dir_root,functionals,correction=False,snapshots=False):\n",
    "    \"\"\" given directory of dat files, gets avera binding energies with or without \n",
    "        cavity correction and also returns raw data \"\"\"\n",
    "    list_of_mean_series = []\n",
    "    dict_of_summary_df = {}\n",
    "    for functional in functionals:\n",
    "        outfile_dir = outfile_dir_root / functional\n",
    "        summary_df, mean_series = get_average_binding(outfile_dir,correction=correction,snapshots=snapshots)\n",
    "        mean_series.name = functional\n",
    "        list_of_mean_series.append(mean_series)\n",
    "        dict_of_summary_df[functional] = summary_df\n",
    "    return pd.concat(list_of_mean_series,axis=1) , dict_of_summary_df\n",
    "    "
   ]
  },
  {
   "cell_type": "markdown",
   "metadata": {},
   "source": [
    "# Functions to deal with dispersion"
   ]
  },
  {
   "cell_type": "code",
   "execution_count": 15,
   "metadata": {},
   "outputs": [],
   "source": [
    "def load_disp_from_folder(root,exclude_list=[\".\",\"_\",\",\"],dat_file_name='disp.data'):\n",
    "    \"\"\" goes through folders in root dir and loads csv files into dict by folder name\n",
    "    folder correspond to ligands \"\"\"\n",
    "    root = pathlib.Path(root) \n",
    "    disp_dict = {}\n",
    "    for folder in root.iterdir():\n",
    "        if folder.is_dir():\n",
    "            if folder.name[0] not in exclude_list:\n",
    "                disp_dict[folder.name]=pd.read_csv(folder/dat_file_name,sep=' ')\n",
    "    return disp_dict "
   ]
  },
  {
   "cell_type": "code",
   "execution_count": 16,
   "metadata": {},
   "outputs": [],
   "source": [
    "def process_disp(disp_dict,snapshots):\n",
    "    \"\"\" return dictionary of mean net dispersion over a subset of snapshots\"\"\"\n",
    "    mean_dict = {}\n",
    "    for key in disp_dict.keys():\n",
    "        # select subset of snaps\n",
    "        subset = disp_dict[key].loc[[int(x) for x in snapshots],:]\n",
    "        # calc net dispersion term\n",
    "        subset['diff']=subset['complex']-subset['host']-subset['ligand']\n",
    "        mean_dict[key]=subset.mean()['diff']\n",
    "    return mean_dict"
   ]
  },
  {
   "cell_type": "code",
   "execution_count": 17,
   "metadata": {},
   "outputs": [],
   "source": [
    "def elstner_dispersion_collection(directories, functional, snapshots=False):\n",
    "    \"\"\" complicated way of getting the elstner dispersion terms for all onetep calcs, \n",
    "    these are processed to get the mean mean net dispersion over a set of snapshots_present\n",
    "    directories: is a list of directories in which to find onetep outfiles\n",
    "    Changed to take only one functional at a time as argument\"\"\" \n",
    "    data_temp = {}\n",
    "    for outfile_dir_root in directories:\n",
    "        inner_dict = {}\n",
    "        outfile_dir = outfile_dir_root / functional\n",
    "        # load a dictionary of onetep objects using OnePy \n",
    "        object_dict = op.load_out_files(outfile_dir,format_flag=True,\n",
    "                                    delim='_',split_num=0) \n",
    "        # this appears to override the snapshots_present parameter, INVESTIGATE\n",
    "        # determine which snapshots have been loaded for a given functional and dir\n",
    "        snapshots_present = []\n",
    "        for key in object_dict.keys():\n",
    "            snapshot = key.split(sep='_')[-1]\n",
    "            if snapshot not in snapshots_present:\n",
    "                snapshots_present.append(snapshot)\n",
    "        # call dispersion routine for each object\n",
    "        for key in object_dict.keys():\n",
    "            object_dict[key].get_dispersion()\n",
    "        # initialize lists\n",
    "        complex_disp=[]\n",
    "        host_disp=[]\n",
    "        ligand_disp=[]\n",
    "        diff=[]\n",
    "        # loop over all snapshots loaded from dir for this functional\n",
    "        for snapshot in snapshots_present:\n",
    "            # populate lists with comp, host, lig disp and calc net disp (diff)\n",
    "            complex_disp.append(op.hartree_to_kcal_mol(object_dict['complex_'+snapshot].empirical_dispersion))\n",
    "            host_disp.append(op.hartree_to_kcal_mol(object_dict['host_'+snapshot].empirical_dispersion))\n",
    "            ligand_disp.append(op.hartree_to_kcal_mol(object_dict['ligand_'+snapshot].empirical_dispersion))\n",
    "            diff.append(op.hartree_to_kcal_mol(object_dict['complex_'+snapshot].empirical_dispersion-\n",
    "                                              object_dict['host_'+snapshot].empirical_dispersion-\n",
    "                                              object_dict['ligand_'+snapshot].empirical_dispersion))\n",
    "        # populates an inner loop temp dict with the data from above\n",
    "        inner_dict['complex']=complex_disp\n",
    "        inner_dict['host']=host_disp\n",
    "        inner_dict['ligand']=ligand_disp\n",
    "        inner_dict['diff']=diff\n",
    "        # adds snapshots present and processed\n",
    "        inner_dict['snapshot']=[int(x) for x in snapshots_present]\n",
    "        # convert to df and set snapshots as indexz\n",
    "        df_inner_dict=pd.DataFrame.from_dict(inner_dict)\n",
    "        df_inner_dict=df_inner_dict.set_index('snapshot')\n",
    "        # add the inner loop df to the outer loop dictionary with key as name of ligand\n",
    "        data_temp[str(outfile_dir_root.name).split('_')[0]]=df_inner_dict\n",
    "    # use OnePy utility to generate df from 2 times nested dict. Although is this even nested....\n",
    "    #dispersion_df = op.df_from_dict_2nested(data_temp)    \n",
    "    # call process_disp to get mean value over subset of snapshots. Here need to select subsets...\n",
    "    if snapshots == False:\n",
    "        mean_disp_elstner = process_disp(data_temp,snapshots_present)\n",
    "    else:\n",
    "        mean_disp_elstner = process_disp(data_temp,snapshots)\n",
    "    return mean_disp_elstner"
   ]
  },
  {
   "cell_type": "code",
   "execution_count": 18,
   "metadata": {},
   "outputs": [],
   "source": [
    "def d2_d3_dispersion_correction(ligands,snapshots,mean_disp_elstner,root_dir):\n",
    "    \"\"\" streamlines process of getting rel mean dispersion corrections to augment final binding energies\"\"\"\n",
    "    mean_disp_correction = {}\n",
    "    for ligand in ligands:\n",
    "        temp1= load_disp_from_folder(root_dir+ligand)\n",
    "        temp2= process_disp(temp1,snapshots)\n",
    "        temp2['elstner']=mean_disp_elstner[ligand]\n",
    "        mean_disp_correction[ligand]=temp2\n",
    "    df_mean_disp = pd.DataFrame.from_dict(mean_disp_correction)\n",
    "    df_rel_mean_dips = df_mean_disp.copy()\n",
    "    df_rel_mean_dips = df_rel_mean_dips.drop('phenol',axis=1)\n",
    "    for ligand in ligands:\n",
    "        if ligand != 'phenol':\n",
    "            df_rel_mean_dips[ligand]=df_mean_disp[ligand]-df_mean_disp['phenol']\n",
    "    return df_rel_mean_dips\n"
   ]
  },
  {
   "cell_type": "code",
   "execution_count": 19,
   "metadata": {},
   "outputs": [],
   "source": [
    "def edit_pbe_df(df_binding_energies,df_rel_mean_disp,disp_list=['bj','bjm','old','zero','zero']):\n",
    "    \"\"\" given the output df of norm rel binding energies, adds columns for the different empirical\n",
    "    disp corrections to pbe by suptraction elstener and adding XXX \"\"\" \n",
    "    for disp in disp_list:\n",
    "        df_binding_energies['PBE_'+disp]=df_binding_energies['PBE']-df_rel_mean_disp.transpose()['elstner']+df_rel_mean_disp.transpose()[disp]\n",
    "    return df_binding_energies\n",
    "                                                           "
   ]
  },
  {
   "cell_type": "markdown",
   "metadata": {},
   "source": [
    "## Determine list of Snapshots present for phenol PBE, and define sets of snaps"
   ]
  },
  {
   "cell_type": "code",
   "execution_count": 20,
   "metadata": {},
   "outputs": [],
   "source": [
    "snapshots_5 = ['24801', '32401', '17201', '9601','2001'] \n",
    "snapshots_10 = ['24801', '32401', '17201', '13401', '21001', '28601', '9601', '5801','36201','2001'] \n",
    "snapshots_50 = [2001, 2761, 3521, 4281, 5041, 5801, 6561, 7321, 8081, 8841, 9601, 10361, 11121, 11881, 12641, 13401, 14161, 14921, 15681, 16441, 17201, 17961, 18721, 19481, 20241, 21001, 21761, 22521, 23281, 24041, 24801, 25561, 26321, 27081, 27841, 28601, 29361, 30121, 30881, 31641, 32401, 33161, 33921, 34681, 35441, 36201, 36961, 37721, 38481, 39241]"
   ]
  },
  {
   "cell_type": "code",
   "execution_count": 21,
   "metadata": {},
   "outputs": [
    {
     "name": "stdout",
     "output_type": "stream",
     "text": [
      "['24801', '32401', '17201', '13401', '21001', '28601', '9601', '5801', '36201', '2001']\n"
     ]
    }
   ],
   "source": [
    "# Load phernol PBE via OnePy and determine snapshots present\n",
    "phenol_PBE = op.load_out_files(\"phenol_outfiles/PBE\",\n",
    "                               format_flag=True,\n",
    "                               delim='_', split_num=0)\n",
    "snapshots = []\n",
    "for key in phenol_PBE.keys():\n",
    "    snapshot = key.split(sep='_')[-1]\n",
    "    if snapshot not in snapshots:\n",
    "        snapshots.append(snapshot)\n",
    "print (snapshots)"
   ]
  },
  {
   "cell_type": "markdown",
   "metadata": {},
   "source": [
    "# Collect entropy data"
   ]
  },
  {
   "cell_type": "code",
   "execution_count": 22,
   "metadata": {},
   "outputs": [],
   "source": [
    "entropy_dict ={}\n",
    "for ligand in ['phenol','methylphenol','catechol','fluoroaniline','hydroxyaniline']:\n",
    "    entropy_data = pd.read_csv('entropy/'+ligand+'_entropy.txt',delimiter=' ',names=['snapshot','S'])\n",
    "    entropy_data['snapshot'] = entropy_data['snapshot'].str.split('.').str[1]\n",
    "    entropy_data = entropy_data.set_index('snapshot') \n",
    "    entropy_data['S']=entropy_data['S'].str.strip('a')\n",
    "    entropy_data = entropy_data.apply(pd.to_numeric)\n",
    "    entropy_dict[ligand]=entropy_data\n",
    "entropy_data=False"
   ]
  },
  {
   "cell_type": "code",
   "execution_count": null,
   "metadata": {},
   "outputs": [],
   "source": []
  },
  {
   "cell_type": "code",
   "execution_count": 23,
   "metadata": {},
   "outputs": [],
   "source": [
    "def entropy_mean(entropy_data,snapshots):\n",
    "    \"\"\" retruns mean over subset of snapshots for entropy, in future, all snaps must be \n",
    "    present , else key error raised...\"\"\"\n",
    "    subset_df = entropy_data.loc[snapshots,:]\n",
    "    return subset_df['S'].mean()"
   ]
  },
  {
   "cell_type": "code",
   "execution_count": 24,
   "metadata": {},
   "outputs": [],
   "source": [
    "def entropy_relative(entropy_dict,snapshots,ligands,reference='phenol'):\n",
    "    \"\"\" retruns series of mean entropies relative to reference \"\"\"\n",
    "    # get mean entropies over subset\n",
    "    temp_dict_mean = {}\n",
    "    for ligand1 in ligands:\n",
    "        temp_dict_mean[ligand1] = entropy_mean(entropy_dict[ligand1],snapshots)\n",
    "    # calc relative to reference entropy\n",
    "    temp_dict_rel = {}\n",
    "    for ligand2 in ligands:\n",
    "        if ligand2!=reference:\n",
    "            temp_dict_rel[ligand2] = temp_dict_mean[ligand2] - temp_dict_mean[reference]\n",
    "    return pd.Series(temp_dict_rel)"
   ]
  },
  {
   "cell_type": "code",
   "execution_count": 25,
   "metadata": {},
   "outputs": [
    {
     "name": "stderr",
     "output_type": "stream",
     "text": [
      "/Users/lennartgundelach/anaconda3/lib/python3.7/site-packages/pandas/core/indexing.py:1494: FutureWarning: \n",
      "Passing list-likes to .loc or [] with any missing label will raise\n",
      "KeyError in the future, you can use .reindex() as an alternative.\n",
      "\n",
      "See the documentation here:\n",
      "https://pandas.pydata.org/pandas-docs/stable/indexing.html#deprecate-loc-reindex-listlike\n",
      "  return self._getitem_tuple(key)\n"
     ]
    }
   ],
   "source": [
    "ligands = ['phenol','methylphenol','catechol','fluoroaniline','hydroxyaniline']\n",
    "entropy_50 = entropy_relative(entropy_dict,[str(x) for x in snapshots_50],ligands)\n",
    "entropy_10 = entropy_relative(entropy_dict,[str(x) for x in snapshots_10],ligands)\n",
    "entropy_5 = entropy_relative(entropy_dict,[str(x) for x in snapshots_5],ligands)\n"
   ]
  },
  {
   "cell_type": "code",
   "execution_count": 26,
   "metadata": {},
   "outputs": [
    {
     "data": {
      "text/plain": [
       "methylphenol     -1.553\n",
       "catechol         -0.396\n",
       "fluoroaniline    -1.155\n",
       "hydroxyaniline   -1.013\n",
       "dtype: float64"
      ]
     },
     "execution_count": 26,
     "metadata": {},
     "output_type": "execute_result"
    }
   ],
   "source": [
    "entropy_50"
   ]
  },
  {
   "cell_type": "code",
   "execution_count": 27,
   "metadata": {},
   "outputs": [
    {
     "data": {
      "text/plain": [
       "methylphenol      0.472\n",
       "catechol          1.169\n",
       "fluoroaniline     1.773\n",
       "hydroxyaniline    2.168\n",
       "dtype: float64"
      ]
     },
     "execution_count": 27,
     "metadata": {},
     "output_type": "execute_result"
    }
   ],
   "source": [
    "entropy_10"
   ]
  },
  {
   "cell_type": "code",
   "execution_count": 28,
   "metadata": {},
   "outputs": [
    {
     "data": {
      "text/plain": [
       "methylphenol      1.082\n",
       "catechol          1.030\n",
       "fluoroaniline     2.853\n",
       "hydroxyaniline    2.282\n",
       "dtype: float64"
      ]
     },
     "execution_count": 28,
     "metadata": {},
     "output_type": "execute_result"
    }
   ],
   "source": [
    "entropy_5"
   ]
  },
  {
   "cell_type": "markdown",
   "metadata": {},
   "source": [
    "# Collect MM-PBSA Data"
   ]
  },
  {
   "cell_type": "code",
   "execution_count": 29,
   "metadata": {},
   "outputs": [],
   "source": [
    "# Creat a dictionary in which each ligand has a DF of all data from .csv files for every snapshot\n",
    "mm_dict = {}\n",
    "for ligand in ['phenol','methylphenol','catechol','fluoroaniline','hydroxyaniline']:\n",
    "    # load data from file\n",
    "    mm_data = pd.read_csv('MM-PBSA/'+ligand+'/MM-energies-solvation.csv',delimiter=';')\n",
    "    # set first column as index and relable to snaphot\n",
    "    mm_data = mm_data.set_index(mm_data.columns[0])\n",
    "    mm_data.index.name = 'snapshot'\n",
    "    # select only snaphsots and get ridd of rest of file\n",
    "    mm_data = mm_data.loc['2001':'39963',:]\n",
    "    # drop empyt columns \n",
    "    mm_data = mm_data.dropna(axis=1)\n",
    "    # deal with odd formatting of methylphenol file\n",
    "    if 'Unnamed: 13' in mm_data.columns:\n",
    "        mm_data = mm_data.drop('Unnamed: 13',axis=1)\n",
    "    # rename columns\n",
    "    mm_data.columns=['comp-gas','comp-polar',\n",
    "                        'comp-non-polar','comp-total','host-gas',\n",
    "                        'host-polar','host-non-polar','host-total',\n",
    "                        'lig-gas','lig-polar','lig-non-polar',\n",
    "                        'lig-total','net-gas','net-polar',\n",
    "                        'net-non-polar','net-total']\n",
    "    # change data type to numeric\n",
    "    mm_data = mm_data.apply(pd.to_numeric)\n",
    "    # add df to dictionary\n",
    "    mm_dict[ligand]=mm_data\n",
    "# make sure i dont accidenatlly use temp variable mm_data\n",
    "mm_data = False\n",
    "    "
   ]
  },
  {
   "cell_type": "code",
   "execution_count": 30,
   "metadata": {},
   "outputs": [],
   "source": [
    "mm_dict['phenol']['net-tota-calc'] = mm_dict['phenol']['net-gas']+mm_dict['phenol']['net-polar']+mm_dict['phenol']['net-non-polar']"
   ]
  },
  {
   "cell_type": "code",
   "execution_count": 31,
   "metadata": {},
   "outputs": [],
   "source": [
    "mm_dict['phenol']['net-calc-2'] = mm_dict['phenol']['comp-total'] - mm_dict['phenol']['host-total']-mm_dict['phenol']['lig-total']\n",
    "#mm_dict['phenol']"
   ]
  },
  {
   "cell_type": "code",
   "execution_count": 32,
   "metadata": {},
   "outputs": [],
   "source": [
    "subset_test=mm_dict['phenol'].loc[[str(x) for x in snapshots_50],:]\n",
    "subset_test['correction']=7.116*(subset_test['host-non-polar']-subset_test['comp-non-polar'])\n",
    "#subset_test"
   ]
  },
  {
   "cell_type": "code",
   "execution_count": 33,
   "metadata": {},
   "outputs": [],
   "source": [
    "def mm_binding_energy(mm_data,snapshots,correction=True,entropy=False):\n",
    "    \"\"\" given df with mm data on all snapshots, calcs mean binding eneryg \n",
    "    with our without cavity correction for a specified set of snapshots, \n",
    "    option to extend with entropy \"\"\"\n",
    "    # select subset \n",
    "    if snapshots=='All':\n",
    "        subset_df = mm_data.loc[:,:]\n",
    "    else:\n",
    "        subset_df = mm_data.loc[snapshots,:]\n",
    "    # calc mean binding energy depending on if cav correction enabled\n",
    "    if correction == False:\n",
    "        binding_energy = subset_df['net-total'].mean()\n",
    "    elif correction == True:\n",
    "        # determine mm cav correction term\n",
    "        subset_df['correction']=2*(subset_df['host-non-polar']-subset_df['comp-non-polar'])\n",
    "        subset_df['binding']=subset_df['net-total']+subset_df['correction']\n",
    "        binding_energy = subset_df['binding'].mean()\n",
    "    return binding_energy"
   ]
  },
  {
   "cell_type": "code",
   "execution_count": 34,
   "metadata": {},
   "outputs": [],
   "source": [
    "def mm_binding_energy_gas(mm_data,snapshots,entropy=False):\n",
    "    \"\"\" given df with mm data on all snapshots, calcs mean binding eneryg \n",
    "    with our without cavity correction for a specified set of snapshots, \n",
    "    option to extend with entropy \"\"\"\n",
    "    # select subset \n",
    "    if snapshots=='All':\n",
    "        subset_df = mm_data.loc[:,:]\n",
    "    else:\n",
    "        subset_df = mm_data.loc[snapshots,:]\n",
    "    # calc mean binding energy depending on if cav correction enabled\n",
    "    binding_energy = subset_df['net-gas'].mean()\n",
    "    return binding_energy"
   ]
  },
  {
   "cell_type": "code",
   "execution_count": 35,
   "metadata": {},
   "outputs": [],
   "source": [
    "def mm_binding_energy_series(mm_dict,snapshots,ligands,correction=True,entropy=False,reference='phenol',ref_exp=-5.6):\n",
    "    \"\"\" Given dict of mm data for each ligand, returns series with relative normalized binding energies relatibve to\n",
    "    some reference, default phenol, with exp value of -5.6 kcal/mol. \"\"\"\n",
    "    # first get 'abs' binding energy for each ligand\n",
    "    temp_dict_mean = {}\n",
    "    for ligand1 in ligands: \n",
    "        temp_dict_mean[ligand1]=mm_binding_energy(mm_dict[ligand1],snapshots,correction,entropy)\n",
    "        #temp_dict_mean[ligand1]=mm_binding_energy_gas(mm_dict[ligand1],snapshots,entropy)\n",
    "    # det relative binding energy for non-ref ligands\n",
    "    temp_dict_mean_rel = {}\n",
    "    # calc normalization factor\n",
    "    norm = ref_exp - temp_dict_mean[reference]\n",
    "    for ligand2 in ligands:\n",
    "        if ligand2 != reference:\n",
    "            # apply norm to all non-ref ligands\n",
    "            temp_dict_mean_rel[ligand2]=norm + temp_dict_mean[ligand2]\n",
    "    # convert to series and return\n",
    "    return pd.Series(temp_dict_mean_rel)"
   ]
  },
  {
   "cell_type": "code",
   "execution_count": null,
   "metadata": {},
   "outputs": [],
   "source": []
  },
  {
   "cell_type": "code",
   "execution_count": 36,
   "metadata": {},
   "outputs": [],
   "source": [
    "ligands = ['phenol','methylphenol','catechol','fluoroaniline','hydroxyaniline']\n",
    "mm_5_uncorrected = mm_binding_energy_series(mm_dict,[str(x) for x in snapshots_5],ligands,correction=False)\n",
    "mm_5_corrected = mm_binding_energy_series(mm_dict,[str(x) for x in snapshots_5],ligands,correction=True)\n",
    "mm_10_uncorrected = mm_binding_energy_series(mm_dict,[str(x) for x in snapshots_10],ligands,correction=False)\n",
    "mm_10_corrected = mm_binding_energy_series(mm_dict,[str(x) for x in snapshots_10],ligands,correction=True)\n",
    "mm_50_uncorrected = mm_binding_energy_series(mm_dict,[str(x) for x in snapshots_50],ligands,correction=False)\n",
    "mm_50_corrected = mm_binding_energy_series(mm_dict,[str(x) for x in snapshots_50],ligands,correction=True)"
   ]
  },
  {
   "cell_type": "code",
   "execution_count": 37,
   "metadata": {},
   "outputs": [
    {
     "data": {
      "text/plain": [
       "methylphenol      -6.994\n",
       "catechol          -5.086\n",
       "fluoroaniline    -10.128\n",
       "hydroxyaniline    -8.166\n",
       "dtype: float64"
      ]
     },
     "execution_count": 37,
     "metadata": {},
     "output_type": "execute_result"
    }
   ],
   "source": [
    "mm_5_corrected"
   ]
  },
  {
   "cell_type": "code",
   "execution_count": 38,
   "metadata": {},
   "outputs": [
    {
     "data": {
      "text/plain": [
       "methylphenol     -7.803\n",
       "catechol         -4.744\n",
       "fluoroaniline    -9.164\n",
       "hydroxyaniline   -7.737\n",
       "dtype: float64"
      ]
     },
     "execution_count": 38,
     "metadata": {},
     "output_type": "execute_result"
    }
   ],
   "source": [
    "mm_50_corrected"
   ]
  },
  {
   "cell_type": "code",
   "execution_count": 39,
   "metadata": {},
   "outputs": [
    {
     "data": {
      "text/plain": [
       "methylphenol     -7.989\n",
       "catechol         -4.760\n",
       "fluoroaniline    -9.287\n",
       "hydroxyaniline   -7.786\n",
       "dtype: float64"
      ]
     },
     "execution_count": 39,
     "metadata": {},
     "output_type": "execute_result"
    }
   ],
   "source": [
    "mm_50_uncorrected"
   ]
  },
  {
   "cell_type": "code",
   "execution_count": 40,
   "metadata": {},
   "outputs": [
    {
     "data": {
      "text/plain": [
       "methylphenol     -7.433\n",
       "catechol         -4.147\n",
       "fluoroaniline    -8.923\n",
       "hydroxyaniline   -7.230\n",
       "dtype: float64"
      ]
     },
     "execution_count": 40,
     "metadata": {},
     "output_type": "execute_result"
    }
   ],
   "source": [
    "\n",
    "mm_all_corrected = mm_binding_energy_series(mm_dict,'All',ligands,correction=True)\n",
    "mm_all_corrected"
   ]
  },
  {
   "cell_type": "code",
   "execution_count": 41,
   "metadata": {},
   "outputs": [
    {
     "data": {
      "text/plain": [
       "methylphenol     -7.620\n",
       "catechol         -4.150\n",
       "fluoroaniline    -9.026\n",
       "hydroxyaniline   -7.262\n",
       "dtype: float64"
      ]
     },
     "execution_count": 41,
     "metadata": {},
     "output_type": "execute_result"
    }
   ],
   "source": [
    "mm_all_uncorrected = mm_binding_energy_series(mm_dict,'All',ligands,correction=False)\n",
    "mm_all_uncorrected"
   ]
  },
  {
   "cell_type": "markdown",
   "metadata": {},
   "source": [
    "# 10 Snaps"
   ]
  },
  {
   "cell_type": "code",
   "execution_count": 42,
   "metadata": {},
   "outputs": [],
   "source": [
    "snapshots_10 = ['24801', '32401', '17201', '13401', '21001', '28601', '9601', '5801','36201','2001'] "
   ]
  },
  {
   "cell_type": "markdown",
   "metadata": {},
   "source": [
    "## Dispersion, 10 snaps"
   ]
  },
  {
   "cell_type": "code",
   "execution_count": 43,
   "metadata": {},
   "outputs": [],
   "source": [
    "# loading elstner data\n",
    "functionals = 'PBE'\n",
    "directories = [pathlib.Path.cwd() / 'phenol_outfiles',pathlib.Path.cwd() / 'catechol_outfiles',\n",
    "              pathlib.Path.cwd() / 'methylphenol_outfiles',pathlib.Path.cwd() / 'fluoroaniline_outfiles',\n",
    "              pathlib.Path.cwd() / 'hydroxyaniline_outfiles']\n",
    "mean_disp_elstner_10 = elstner_dispersion_collection(directories,functionals,snapshots_10)"
   ]
  },
  {
   "cell_type": "code",
   "execution_count": 44,
   "metadata": {},
   "outputs": [],
   "source": [
    "# loading d2 d3 data\n",
    "ligands = ['fluoroaniline','phenol','methylphenol','catechol','hydroxyaniline']\n",
    "root_dir = 'dispersion/50_snaps/'\n",
    "df_rel_mean_disp_10 = d2_d3_dispersion_correction(ligands,snapshots_10,mean_disp_elstner_10,root_dir)"
   ]
  },
  {
   "cell_type": "markdown",
   "metadata": {},
   "source": [
    "### Uncorrected"
   ]
  },
  {
   "cell_type": "code",
   "execution_count": 53,
   "metadata": {},
   "outputs": [],
   "source": [
    "functionals = ['PBE','VV10','B97M-V']\n",
    "phenol = load_data(pathlib.Path.cwd() / 'phenol_outfiles', functionals, snapshots=snapshots_10)\n",
    "catechol = load_data(pathlib.Path.cwd() / 'catechol_outfiles',functionals,snapshots=snapshots_10)\n",
    "fluoroaniline = load_data( pathlib.Path.cwd() / 'fluoroaniline_outfiles', functionals,snapshots=snapshots_10)\n",
    "hydroxyaniline = load_data( pathlib.Path.cwd() / 'hydroxyaniline_outfiles', functionals, snapshots=snapshots_10)"
   ]
  },
  {
   "cell_type": "code",
   "execution_count": 54,
   "metadata": {},
   "outputs": [],
   "source": [
    "phenol_summary , phenol_data = load_data_all(pathlib.Path.cwd() / 'phenol_outfiles', functionals, snapshots=snapshots_10)\n"
   ]
  },
  {
   "cell_type": "code",
   "execution_count": 57,
   "metadata": {},
   "outputs": [
    {
     "data": {
      "text/html": [
       "<div>\n",
       "<style scoped>\n",
       "    .dataframe tbody tr th:only-of-type {\n",
       "        vertical-align: middle;\n",
       "    }\n",
       "\n",
       "    .dataframe tbody tr th {\n",
       "        vertical-align: top;\n",
       "    }\n",
       "\n",
       "    .dataframe thead th {\n",
       "        text-align: right;\n",
       "    }\n",
       "</style>\n",
       "<table border=\"1\" class=\"dataframe\">\n",
       "  <thead>\n",
       "    <tr style=\"text-align: right;\">\n",
       "      <th></th>\n",
       "      <th>E</th>\n",
       "      <th>G_solv</th>\n",
       "      <th>G_solv_corrected</th>\n",
       "      <th>G_bind</th>\n",
       "    </tr>\n",
       "  </thead>\n",
       "  <tbody>\n",
       "    <tr>\n",
       "      <th>24801</th>\n",
       "      <td>-29.874</td>\n",
       "      <td>3.349</td>\n",
       "      <td>3.349</td>\n",
       "      <td>-26.525</td>\n",
       "    </tr>\n",
       "    <tr>\n",
       "      <th>32401</th>\n",
       "      <td>-25.518</td>\n",
       "      <td>5.393</td>\n",
       "      <td>5.393</td>\n",
       "      <td>-20.126</td>\n",
       "    </tr>\n",
       "    <tr>\n",
       "      <th>17201</th>\n",
       "      <td>-26.917</td>\n",
       "      <td>2.975</td>\n",
       "      <td>2.975</td>\n",
       "      <td>-23.942</td>\n",
       "    </tr>\n",
       "    <tr>\n",
       "      <th>13401</th>\n",
       "      <td>-30.389</td>\n",
       "      <td>4.788</td>\n",
       "      <td>4.788</td>\n",
       "      <td>-25.601</td>\n",
       "    </tr>\n",
       "    <tr>\n",
       "      <th>21001</th>\n",
       "      <td>-28.263</td>\n",
       "      <td>4.192</td>\n",
       "      <td>4.192</td>\n",
       "      <td>-24.071</td>\n",
       "    </tr>\n",
       "    <tr>\n",
       "      <th>28601</th>\n",
       "      <td>-30.833</td>\n",
       "      <td>5.663</td>\n",
       "      <td>5.663</td>\n",
       "      <td>-25.170</td>\n",
       "    </tr>\n",
       "    <tr>\n",
       "      <th>9601</th>\n",
       "      <td>-26.244</td>\n",
       "      <td>3.802</td>\n",
       "      <td>3.802</td>\n",
       "      <td>-22.442</td>\n",
       "    </tr>\n",
       "    <tr>\n",
       "      <th>5801</th>\n",
       "      <td>-28.936</td>\n",
       "      <td>3.063</td>\n",
       "      <td>3.063</td>\n",
       "      <td>-25.873</td>\n",
       "    </tr>\n",
       "    <tr>\n",
       "      <th>36201</th>\n",
       "      <td>-27.513</td>\n",
       "      <td>2.678</td>\n",
       "      <td>2.678</td>\n",
       "      <td>-24.835</td>\n",
       "    </tr>\n",
       "    <tr>\n",
       "      <th>2001</th>\n",
       "      <td>-30.165</td>\n",
       "      <td>2.269</td>\n",
       "      <td>2.269</td>\n",
       "      <td>-27.896</td>\n",
       "    </tr>\n",
       "  </tbody>\n",
       "</table>\n",
       "</div>"
      ],
      "text/plain": [
       "            E  G_solv  G_solv_corrected  G_bind\n",
       "24801 -29.874   3.349             3.349 -26.525\n",
       "32401 -25.518   5.393             5.393 -20.126\n",
       "17201 -26.917   2.975             2.975 -23.942\n",
       "13401 -30.389   4.788             4.788 -25.601\n",
       "21001 -28.263   4.192             4.192 -24.071\n",
       "28601 -30.833   5.663             5.663 -25.170\n",
       "9601  -26.244   3.802             3.802 -22.442\n",
       "5801  -28.936   3.063             3.063 -25.873\n",
       "36201 -27.513   2.678             2.678 -24.835\n",
       "2001  -30.165   2.269             2.269 -27.896"
      ]
     },
     "execution_count": 57,
     "metadata": {},
     "output_type": "execute_result"
    }
   ],
   "source": [
    "phenol_data['PBE']"
   ]
  },
  {
   "cell_type": "code",
   "execution_count": 244,
   "metadata": {},
   "outputs": [],
   "source": [
    "# Special case for Methylphenol where some manual data manipulation is required due to restarted files\n",
    "# Manual corrections to BLYP not currently needed but kept for the record\n",
    "exclude_list_BLYP = ['complex_17201','host_17201','complex_24801','host_24801','complex_32401']\n",
    "exclude_list_VV10 = ['complex_24801','host_24801','complex_32401','host_32401']\n",
    "functionals = ['PBE','VV10','B97M-V']\n",
    "outfile_dir_root = pathlib.Path.cwd() / 'methylphenol_outfiles'\n",
    "list_of_mean_series = []\n",
    "for functional in functionals:\n",
    "    outfile_dir = outfile_dir_root / functional\n",
    "    if functional=='BLYP':\n",
    "        summary_df, mean_series = get_average_binding_manual(outfile_dir,correction=False,\n",
    "                                                            exclude_function=exclude_function,\n",
    "                                                            exclude_list=exclude_list_BLYP,\n",
    "                                                            functional='BLYP',snapshots=snapshots_10)\n",
    "    elif functional=='VV10':\n",
    "        summary_df, mean_series = get_average_binding_manual(outfile_dir,correction=False,\n",
    "                                                            exclude_function=exclude_function,\n",
    "                                                            exclude_list=exclude_list_VV10,\n",
    "                                                            functional='VV10',snapshots=snapshots_10)\n",
    "    else:\n",
    "        summary_df, mean_series = get_average_binding(outfile_dir,False,snapshots=snapshots_10)\n",
    "        \n",
    "    mean_series.name = functional\n",
    "    list_of_mean_series.append(mean_series)\n",
    "methylphenol = pd.concat(list_of_mean_series,axis=1)"
   ]
  },
  {
   "cell_type": "code",
   "execution_count": 245,
   "metadata": {},
   "outputs": [],
   "source": [
    "normalization_series = - 5.6 - phenol.loc['G_bind':,:] # find normalization vecotr based on exp value of 5.6 for phenol\n",
    "catechol_no_correction = catechol.loc['G_bind':,:] + normalization_series\n",
    "methylphenol_no_correction = methylphenol.loc['G_bind':,:] + normalization_series\n",
    "fluoroaniline_no_correction = fluoroaniline.loc['G_bind':,:] + normalization_series\n",
    "hydroxyaniline_no_correction = hydroxyaniline.loc['G_bind':,:] + normalization_series"
   ]
  },
  {
   "cell_type": "code",
   "execution_count": 246,
   "metadata": {},
   "outputs": [
    {
     "data": {
      "text/html": [
       "<div>\n",
       "<style scoped>\n",
       "    .dataframe tbody tr th:only-of-type {\n",
       "        vertical-align: middle;\n",
       "    }\n",
       "\n",
       "    .dataframe tbody tr th {\n",
       "        vertical-align: top;\n",
       "    }\n",
       "\n",
       "    .dataframe thead th {\n",
       "        text-align: right;\n",
       "    }\n",
       "</style>\n",
       "<table border=\"1\" class=\"dataframe\">\n",
       "  <thead>\n",
       "    <tr style=\"text-align: right;\">\n",
       "      <th></th>\n",
       "      <th>PBE</th>\n",
       "      <th>VV10</th>\n",
       "      <th>B97M-V</th>\n",
       "      <th>Exp</th>\n",
       "      <th>5_snaps</th>\n",
       "      <th>PBE_bj</th>\n",
       "      <th>PBE_bjm</th>\n",
       "      <th>PBE_old</th>\n",
       "      <th>PBE_zero</th>\n",
       "      <th>MM</th>\n",
       "    </tr>\n",
       "  </thead>\n",
       "  <tbody>\n",
       "    <tr>\n",
       "      <th>catechol</th>\n",
       "      <td>-10.769</td>\n",
       "      <td>-11.285</td>\n",
       "      <td>-10.848</td>\n",
       "      <td>-4.4</td>\n",
       "      <td>-12.2</td>\n",
       "      <td>-10.122</td>\n",
       "      <td>-10.119</td>\n",
       "      <td>-10.113</td>\n",
       "      <td>-10.157</td>\n",
       "      <td>-4.332</td>\n",
       "    </tr>\n",
       "    <tr>\n",
       "      <th>methylphenol</th>\n",
       "      <td>-8.713</td>\n",
       "      <td>-9.628</td>\n",
       "      <td>-8.649</td>\n",
       "      <td>-4.4</td>\n",
       "      <td>-10.1</td>\n",
       "      <td>-6.237</td>\n",
       "      <td>-6.229</td>\n",
       "      <td>-6.114</td>\n",
       "      <td>-6.245</td>\n",
       "      <td>-6.624</td>\n",
       "    </tr>\n",
       "    <tr>\n",
       "      <th>fluoroaniline</th>\n",
       "      <td>-6.692</td>\n",
       "      <td>-6.217</td>\n",
       "      <td>-6.867</td>\n",
       "      <td>-5.5</td>\n",
       "      <td>-6.3</td>\n",
       "      <td>-6.077</td>\n",
       "      <td>-6.084</td>\n",
       "      <td>-6.140</td>\n",
       "      <td>-6.050</td>\n",
       "      <td>-10.128</td>\n",
       "    </tr>\n",
       "    <tr>\n",
       "      <th>hydroxyaniline</th>\n",
       "      <td>-8.040</td>\n",
       "      <td>-8.558</td>\n",
       "      <td>-8.719</td>\n",
       "      <td>0.0</td>\n",
       "      <td>-8.2</td>\n",
       "      <td>-4.832</td>\n",
       "      <td>-4.821</td>\n",
       "      <td>-4.687</td>\n",
       "      <td>-4.840</td>\n",
       "      <td>-6.619</td>\n",
       "    </tr>\n",
       "  </tbody>\n",
       "</table>\n",
       "</div>"
      ],
      "text/plain": [
       "                   PBE    VV10  B97M-V  Exp  5_snaps  PBE_bj  PBE_bjm  \\\n",
       "catechol       -10.769 -11.285 -10.848 -4.4    -12.2 -10.122  -10.119   \n",
       "methylphenol    -8.713  -9.628  -8.649 -4.4    -10.1  -6.237   -6.229   \n",
       "fluoroaniline   -6.692  -6.217  -6.867 -5.5     -6.3  -6.077   -6.084   \n",
       "hydroxyaniline  -8.040  -8.558  -8.719  0.0     -8.2  -4.832   -4.821   \n",
       "\n",
       "                PBE_old  PBE_zero      MM  \n",
       "catechol        -10.113   -10.157  -4.332  \n",
       "methylphenol     -6.114    -6.245  -6.624  \n",
       "fluoroaniline    -6.140    -6.050 -10.128  \n",
       "hydroxyaniline   -4.687    -4.840  -6.619  "
      ]
     },
     "execution_count": 246,
     "metadata": {},
     "output_type": "execute_result"
    }
   ],
   "source": [
    "uncorrected_df_10 = catechol_no_correction.merge(methylphenol_no_correction,how='outer')\n",
    "uncorrected_df_10 = uncorrected_df_10.merge(fluoroaniline_no_correction,how='outer')\n",
    "uncorrected_df_10 = uncorrected_df_10.merge(hydroxyaniline_no_correction,how='outer')\n",
    "uncorrected_df_10['Exp']=[-4.4,-4.4,-5.5,0.0]\n",
    "uncorrected_df_10['5_snaps']=[-12.2,-10.1,-6.3,-8.2]\n",
    "uncorrected_df_10.rename(index = {0:'catechol',1:\"methylphenol\",2:'fluoroaniline',3:'hydroxyaniline'},inplace=True)\n",
    "uncorrected_df_10 = edit_pbe_df(uncorrected_df_10,df_rel_mean_disp_10)\n",
    "uncorrected_df_10['MM']=mm_10_uncorrected\n",
    "uncorrected_df_10"
   ]
  },
  {
   "cell_type": "markdown",
   "metadata": {},
   "source": [
    "### Corrected, 10 snaps"
   ]
  },
  {
   "cell_type": "code",
   "execution_count": 247,
   "metadata": {},
   "outputs": [],
   "source": [
    "functionals = ['PBE','VV10','B97M-V']\n",
    "snapshots_10 = ['24801', '32401', '17201', '13401', '21001', '28601', '9601', '5801','36201','2001'] \n",
    "phenol = load_data(pathlib.Path.cwd() / 'phenol_outfiles', functionals,correction=True, snapshots=snapshots_10)\n",
    "catechol = load_data(pathlib.Path.cwd() / 'catechol_outfiles',functionals,correction=True,snapshots=snapshots_10)\n",
    "fluoroaniline = load_data( pathlib.Path.cwd() / 'fluoroaniline_outfiles', functionals,correction=True,snapshots=snapshots_10)\n",
    "hydroxyaniline = load_data( pathlib.Path.cwd() / 'hydroxyaniline_outfiles', functionals,correction=True,snapshots=snapshots_10)"
   ]
  },
  {
   "cell_type": "code",
   "execution_count": 248,
   "metadata": {},
   "outputs": [],
   "source": [
    "# Special case for Methylphenol where some manual data manipulation is required due to restarted files\n",
    "# Manual corrections to BLYP not currently needed but kept for the record\n",
    "exclude_list_BLYP = ['complex_17201','host_17201','complex_24801','host_24801','complex_32401']\n",
    "exclude_list_VV10 = ['complex_24801','host_24801','complex_32401','host_32401']\n",
    "functionals = ['PBE','VV10','B97M-V']\n",
    "outfile_dir_root = pathlib.Path.cwd() / 'methylphenol_outfiles'\n",
    "list_of_mean_series = []\n",
    "for functional in functionals:\n",
    "    outfile_dir = outfile_dir_root / functional\n",
    "    if functional=='BLYP':\n",
    "        summary_df, mean_series = get_average_binding_manual(outfile_dir,correction=True,\n",
    "                                                            exclude_function=exclude_function,\n",
    "                                                            exclude_list=exclude_list_BLYP,\n",
    "                                                            functional='BLYP',snapshots=snapshots_10)\n",
    "    elif functional=='VV10':\n",
    "        summary_df, mean_series = get_average_binding_manual(outfile_dir,correction=True,\n",
    "                                                            exclude_function=exclude_function,\n",
    "                                                            exclude_list=exclude_list_VV10,\n",
    "                                                            functional='VV10',snapshots=snapshots_10)\n",
    "    else:\n",
    "        summary_df, mean_series = get_average_binding(outfile_dir,True,snapshots=snapshots_10)\n",
    "        \n",
    "    mean_series.name = functional\n",
    "    list_of_mean_series.append(mean_series)\n",
    "methylphenol = pd.concat(list_of_mean_series,axis=1)"
   ]
  },
  {
   "cell_type": "code",
   "execution_count": 249,
   "metadata": {},
   "outputs": [],
   "source": [
    "normalization_series = - 5.6 - phenol.loc['G_bind':,:] # find normalization vecotr based on exp value of 5.6 for phenol\n",
    "catechol_correction = catechol.loc['G_bind':,:] + normalization_series\n",
    "methylphenol_correction = methylphenol.loc['G_bind':,:] + normalization_series\n",
    "fluoroaniline_correction = fluoroaniline.loc['G_bind':,:] + normalization_series\n",
    "hydroxyaniline_correction = hydroxyaniline.loc['G_bind':,:] + normalization_series"
   ]
  },
  {
   "cell_type": "code",
   "execution_count": 252,
   "metadata": {},
   "outputs": [
    {
     "data": {
      "text/html": [
       "<div>\n",
       "<style scoped>\n",
       "    .dataframe tbody tr th:only-of-type {\n",
       "        vertical-align: middle;\n",
       "    }\n",
       "\n",
       "    .dataframe tbody tr th {\n",
       "        vertical-align: top;\n",
       "    }\n",
       "\n",
       "    .dataframe thead th {\n",
       "        text-align: right;\n",
       "    }\n",
       "</style>\n",
       "<table border=\"1\" class=\"dataframe\">\n",
       "  <thead>\n",
       "    <tr style=\"text-align: right;\">\n",
       "      <th></th>\n",
       "      <th>PBE</th>\n",
       "      <th>VV10</th>\n",
       "      <th>B97M-V</th>\n",
       "      <th>Exp</th>\n",
       "      <th>50_snaps</th>\n",
       "      <th>PBE_bj</th>\n",
       "      <th>PBE_bjm</th>\n",
       "      <th>PBE_old</th>\n",
       "      <th>PBE_zero</th>\n",
       "      <th>MM</th>\n",
       "    </tr>\n",
       "  </thead>\n",
       "  <tbody>\n",
       "    <tr>\n",
       "      <th>catechol</th>\n",
       "      <td>-9.678</td>\n",
       "      <td>-10.045</td>\n",
       "      <td>-9.664</td>\n",
       "      <td>-4.4</td>\n",
       "      <td>-9.0</td>\n",
       "      <td>-9.031</td>\n",
       "      <td>-9.029</td>\n",
       "      <td>-9.022</td>\n",
       "      <td>-9.066</td>\n",
       "      <td>-4.276</td>\n",
       "    </tr>\n",
       "    <tr>\n",
       "      <th>methylphenol</th>\n",
       "      <td>-6.327</td>\n",
       "      <td>-6.721</td>\n",
       "      <td>-5.714</td>\n",
       "      <td>-4.4</td>\n",
       "      <td>-8.5</td>\n",
       "      <td>-3.851</td>\n",
       "      <td>-3.843</td>\n",
       "      <td>-3.728</td>\n",
       "      <td>-3.859</td>\n",
       "      <td>-6.524</td>\n",
       "    </tr>\n",
       "    <tr>\n",
       "      <th>fluoroaniline</th>\n",
       "      <td>-5.467</td>\n",
       "      <td>-4.742</td>\n",
       "      <td>-5.446</td>\n",
       "      <td>-5.5</td>\n",
       "      <td>-5.9</td>\n",
       "      <td>-4.852</td>\n",
       "      <td>-4.858</td>\n",
       "      <td>-4.915</td>\n",
       "      <td>-4.824</td>\n",
       "      <td>-10.032</td>\n",
       "    </tr>\n",
       "    <tr>\n",
       "      <th>hydroxyaniline</th>\n",
       "      <td>-5.351</td>\n",
       "      <td>-5.939</td>\n",
       "      <td>-5.983</td>\n",
       "      <td>0.0</td>\n",
       "      <td>-6.2</td>\n",
       "      <td>-2.143</td>\n",
       "      <td>-2.132</td>\n",
       "      <td>-1.998</td>\n",
       "      <td>-2.151</td>\n",
       "      <td>-6.579</td>\n",
       "    </tr>\n",
       "  </tbody>\n",
       "</table>\n",
       "</div>"
      ],
      "text/plain": [
       "                  PBE    VV10  B97M-V  Exp  50_snaps  PBE_bj  PBE_bjm  \\\n",
       "catechol       -9.678 -10.045  -9.664 -4.4      -9.0  -9.031   -9.029   \n",
       "methylphenol   -6.327  -6.721  -5.714 -4.4      -8.5  -3.851   -3.843   \n",
       "fluoroaniline  -5.467  -4.742  -5.446 -5.5      -5.9  -4.852   -4.858   \n",
       "hydroxyaniline -5.351  -5.939  -5.983  0.0      -6.2  -2.143   -2.132   \n",
       "\n",
       "                PBE_old  PBE_zero      MM  \n",
       "catechol         -9.022    -9.066  -4.276  \n",
       "methylphenol     -3.728    -3.859  -6.524  \n",
       "fluoroaniline    -4.915    -4.824 -10.032  \n",
       "hydroxyaniline   -1.998    -2.151  -6.579  "
      ]
     },
     "execution_count": 252,
     "metadata": {},
     "output_type": "execute_result"
    }
   ],
   "source": [
    "corrected_df_10 = catechol_correction.merge(methylphenol_correction,how='outer')\n",
    "corrected_df_10 = corrected_df_10.merge(fluoroaniline_correction,how='outer')\n",
    "corrected_df_10 = corrected_df_10.merge(hydroxyaniline_correction,how='outer')\n",
    "corrected_df_10['Exp']=[-4.4,-4.4,-5.5,0.0]\n",
    "corrected_df_10['50_snaps']=[-9.0,-8.5,-5.9,-6.2]\n",
    "corrected_df_10.rename(index = {0:'catechol',1:\"methylphenol\",2:'fluoroaniline',3:'hydroxyaniline'},inplace=True)\n",
    "corrected_df_10 = edit_pbe_df(corrected_df_10,df_rel_mean_disp_10)\n",
    "corrected_df_10['MM']=mm_10_corrected\n",
    "corrected_df_10"
   ]
  },
  {
   "cell_type": "markdown",
   "metadata": {},
   "source": [
    "# 5 Snaps"
   ]
  },
  {
   "cell_type": "code",
   "execution_count": 253,
   "metadata": {},
   "outputs": [],
   "source": [
    "snapshots_5 = ['24801', '32401', '17201', '9601','2001'] "
   ]
  },
  {
   "cell_type": "markdown",
   "metadata": {},
   "source": [
    "## Dispersion, 5 snaps"
   ]
  },
  {
   "cell_type": "code",
   "execution_count": 254,
   "metadata": {},
   "outputs": [],
   "source": [
    "# loading elstner data\n",
    "functionals = 'PBE'\n",
    "directories = [pathlib.Path.cwd() / 'phenol_outfiles',pathlib.Path.cwd() / 'catechol_outfiles',\n",
    "              pathlib.Path.cwd() / 'methylphenol_outfiles',pathlib.Path.cwd() / 'fluoroaniline_outfiles',\n",
    "              pathlib.Path.cwd() / 'hydroxyaniline_outfiles']\n",
    "mean_disp_elstner_5 = elstner_dispersion_collection(directories,functionals,snapshots_5)"
   ]
  },
  {
   "cell_type": "code",
   "execution_count": 255,
   "metadata": {},
   "outputs": [],
   "source": [
    "# loading d2 d3 data\n",
    "ligands = ['fluoroaniline','phenol','methylphenol','catechol','hydroxyaniline']\n",
    "root_dir = 'dispersion/50_snaps/'\n",
    "df_rel_mean_disp_5 = d2_d3_dispersion_correction(ligands,snapshots_5,mean_disp_elstner_5,root_dir)"
   ]
  },
  {
   "cell_type": "markdown",
   "metadata": {},
   "source": [
    "### Corrected, 5 snaps"
   ]
  },
  {
   "cell_type": "code",
   "execution_count": 256,
   "metadata": {},
   "outputs": [
    {
     "data": {
      "text/html": [
       "<div>\n",
       "<style scoped>\n",
       "    .dataframe tbody tr th:only-of-type {\n",
       "        vertical-align: middle;\n",
       "    }\n",
       "\n",
       "    .dataframe tbody tr th {\n",
       "        vertical-align: top;\n",
       "    }\n",
       "\n",
       "    .dataframe thead th {\n",
       "        text-align: right;\n",
       "    }\n",
       "</style>\n",
       "<table border=\"1\" class=\"dataframe\">\n",
       "  <thead>\n",
       "    <tr style=\"text-align: right;\">\n",
       "      <th></th>\n",
       "      <th>PBE</th>\n",
       "      <th>VV10</th>\n",
       "      <th>B97M-V</th>\n",
       "      <th>Exp</th>\n",
       "      <th>50_snaps</th>\n",
       "      <th>PBE_bj</th>\n",
       "      <th>PBE_bjm</th>\n",
       "      <th>PBE_old</th>\n",
       "      <th>PBE_zero</th>\n",
       "      <th>MM</th>\n",
       "    </tr>\n",
       "  </thead>\n",
       "  <tbody>\n",
       "    <tr>\n",
       "      <th>catechol</th>\n",
       "      <td>-8.410</td>\n",
       "      <td>-9.174</td>\n",
       "      <td>-8.911</td>\n",
       "      <td>-4.4</td>\n",
       "      <td>-9.0</td>\n",
       "      <td>-6.913</td>\n",
       "      <td>-6.909</td>\n",
       "      <td>-6.876</td>\n",
       "      <td>-6.947</td>\n",
       "      <td>-5.086</td>\n",
       "    </tr>\n",
       "    <tr>\n",
       "      <th>methylphenol</th>\n",
       "      <td>-5.720</td>\n",
       "      <td>-6.524</td>\n",
       "      <td>-5.588</td>\n",
       "      <td>-4.4</td>\n",
       "      <td>-8.5</td>\n",
       "      <td>-2.114</td>\n",
       "      <td>-2.102</td>\n",
       "      <td>-1.939</td>\n",
       "      <td>-2.128</td>\n",
       "      <td>-6.994</td>\n",
       "    </tr>\n",
       "    <tr>\n",
       "      <th>fluoroaniline</th>\n",
       "      <td>-5.596</td>\n",
       "      <td>-4.939</td>\n",
       "      <td>-5.447</td>\n",
       "      <td>-5.5</td>\n",
       "      <td>-5.9</td>\n",
       "      <td>-5.126</td>\n",
       "      <td>-5.132</td>\n",
       "      <td>-5.190</td>\n",
       "      <td>-5.099</td>\n",
       "      <td>-10.128</td>\n",
       "    </tr>\n",
       "    <tr>\n",
       "      <th>hydroxyaniline</th>\n",
       "      <td>-4.309</td>\n",
       "      <td>-5.780</td>\n",
       "      <td>-6.227</td>\n",
       "      <td>0.0</td>\n",
       "      <td>-6.2</td>\n",
       "      <td>-0.089</td>\n",
       "      <td>-0.071</td>\n",
       "      <td>0.132</td>\n",
       "      <td>-0.101</td>\n",
       "      <td>-8.166</td>\n",
       "    </tr>\n",
       "  </tbody>\n",
       "</table>\n",
       "</div>"
      ],
      "text/plain": [
       "                  PBE   VV10  B97M-V  Exp  50_snaps  PBE_bj  PBE_bjm  PBE_old  \\\n",
       "catechol       -8.410 -9.174  -8.911 -4.4      -9.0  -6.913   -6.909   -6.876   \n",
       "methylphenol   -5.720 -6.524  -5.588 -4.4      -8.5  -2.114   -2.102   -1.939   \n",
       "fluoroaniline  -5.596 -4.939  -5.447 -5.5      -5.9  -5.126   -5.132   -5.190   \n",
       "hydroxyaniline -4.309 -5.780  -6.227  0.0      -6.2  -0.089   -0.071    0.132   \n",
       "\n",
       "                PBE_zero      MM  \n",
       "catechol          -6.947  -5.086  \n",
       "methylphenol      -2.128  -6.994  \n",
       "fluoroaniline     -5.099 -10.128  \n",
       "hydroxyaniline    -0.101  -8.166  "
      ]
     },
     "execution_count": 256,
     "metadata": {},
     "output_type": "execute_result"
    }
   ],
   "source": [
    "functionals = ['PBE','VV10','B97M-V']\n",
    "phenol = load_data(pathlib.Path.cwd() / 'phenol_outfiles', functionals,correction=True, snapshots=snapshots_5)\n",
    "catechol = load_data(pathlib.Path.cwd() / 'catechol_outfiles',functionals,correction=True,snapshots=snapshots_5)\n",
    "fluoroaniline = load_data( pathlib.Path.cwd() / 'fluoroaniline_outfiles', functionals,correction=True,snapshots=snapshots_5)\n",
    "hydroxyaniline = load_data( pathlib.Path.cwd() / 'hydroxyaniline_outfiles', functionals,correction=True,snapshots=snapshots_5)\n",
    "\n",
    "# Special case for Methylphenol where some manual data manipulation is required due to restarted files\n",
    "# Manual corrections to BLYP not currently needed but kept for the record\n",
    "exclude_list_BLYP = ['complex_17201','host_17201','complex_24801','host_24801','complex_32401']\n",
    "exclude_list_VV10 = ['complex_24801','host_24801','complex_32401','host_32401']\n",
    "functionals = ['PBE','VV10','B97M-V']\n",
    "outfile_dir_root = pathlib.Path.cwd() / 'methylphenol_outfiles'\n",
    "list_of_mean_series = []\n",
    "for functional in functionals:\n",
    "    outfile_dir = outfile_dir_root / functional\n",
    "    if functional=='BLYP':\n",
    "        summary_df, mean_series = get_average_binding_manual(outfile_dir,correction=True,\n",
    "                                                            exclude_function=exclude_function,\n",
    "                                                            exclude_list=exclude_list_BLYP,\n",
    "                                                            functional='BLYP',snapshots=snapshots_5)\n",
    "    elif functional=='VV10':\n",
    "        summary_df, mean_series = get_average_binding_manual(outfile_dir,correction=True,\n",
    "                                                            exclude_function=exclude_function,\n",
    "                                                            exclude_list=exclude_list_VV10,\n",
    "                                                            functional='VV10',snapshots=snapshots_5)\n",
    "    else:\n",
    "        summary_df, mean_series = get_average_binding(outfile_dir,True,snapshots=snapshots_5)\n",
    "        \n",
    "    mean_series.name = functional\n",
    "    list_of_mean_series.append(mean_series)\n",
    "methylphenol = pd.concat(list_of_mean_series,axis=1)\n",
    "\n",
    "normalization_series = - 5.6 - phenol.loc['G_bind':,:] # find normalization vecotr based on exp value of 5.6 for phenol\n",
    "catechol_correction = catechol.loc['G_bind':,:] + normalization_series\n",
    "methylphenol_correction = methylphenol.loc['G_bind':,:] + normalization_series\n",
    "fluoroaniline_correction = fluoroaniline.loc['G_bind':,:] + normalization_series\n",
    "hydroxyaniline_correction = hydroxyaniline.loc['G_bind':,:] + normalization_series\n",
    "\n",
    "corrected_df_5 = catechol_correction.merge(methylphenol_correction,how='outer')\n",
    "corrected_df_5 = corrected_df_5.merge(fluoroaniline_correction,how='outer')\n",
    "corrected_df_5 = corrected_df_5.merge(hydroxyaniline_correction,how='outer')\n",
    "corrected_df_5['Exp']=[-4.4,-4.4,-5.5,0.0]\n",
    "corrected_df_5['50_snaps']=[-9.0,-8.5,-5.9,-6.2]\n",
    "corrected_df_5.rename(index = {0:'catechol',1:\"methylphenol\",2:'fluoroaniline',3:'hydroxyaniline'},inplace=True)\n",
    "corrected_df_5 = edit_pbe_df(corrected_df_5,df_rel_mean_disp_5)\n",
    "corrected_df_5['MM']=mm_5_corrected\n",
    "corrected_df_5"
   ]
  },
  {
   "cell_type": "code",
   "execution_count": 257,
   "metadata": {},
   "outputs": [
    {
     "data": {
      "text/html": [
       "<div>\n",
       "<style scoped>\n",
       "    .dataframe tbody tr th:only-of-type {\n",
       "        vertical-align: middle;\n",
       "    }\n",
       "\n",
       "    .dataframe tbody tr th {\n",
       "        vertical-align: top;\n",
       "    }\n",
       "\n",
       "    .dataframe thead th {\n",
       "        text-align: right;\n",
       "    }\n",
       "</style>\n",
       "<table border=\"1\" class=\"dataframe\">\n",
       "  <thead>\n",
       "    <tr style=\"text-align: right;\">\n",
       "      <th></th>\n",
       "      <th>PBE</th>\n",
       "      <th>VV10</th>\n",
       "      <th>B97M-V</th>\n",
       "      <th>Exp</th>\n",
       "      <th>50_snaps</th>\n",
       "      <th>PBE_bj</th>\n",
       "      <th>PBE_bjm</th>\n",
       "      <th>PBE_old</th>\n",
       "      <th>PBE_zero</th>\n",
       "      <th>MM</th>\n",
       "    </tr>\n",
       "  </thead>\n",
       "  <tbody>\n",
       "    <tr>\n",
       "      <th>catechol</th>\n",
       "      <td>-11.517</td>\n",
       "      <td>-12.346</td>\n",
       "      <td>-12.182</td>\n",
       "      <td>-4.4</td>\n",
       "      <td>-9.0</td>\n",
       "      <td>-10.021</td>\n",
       "      <td>-10.017</td>\n",
       "      <td>-9.984</td>\n",
       "      <td>-10.055</td>\n",
       "      <td>-5.118</td>\n",
       "    </tr>\n",
       "    <tr>\n",
       "      <th>methylphenol</th>\n",
       "      <td>-9.704</td>\n",
       "      <td>-10.891</td>\n",
       "      <td>-9.961</td>\n",
       "      <td>-4.4</td>\n",
       "      <td>-8.5</td>\n",
       "      <td>-6.098</td>\n",
       "      <td>-6.085</td>\n",
       "      <td>-5.923</td>\n",
       "      <td>-6.111</td>\n",
       "      <td>-7.050</td>\n",
       "    </tr>\n",
       "    <tr>\n",
       "      <th>fluoroaniline</th>\n",
       "      <td>-6.475</td>\n",
       "      <td>-6.038</td>\n",
       "      <td>-6.484</td>\n",
       "      <td>-5.5</td>\n",
       "      <td>-5.9</td>\n",
       "      <td>-6.004</td>\n",
       "      <td>-6.011</td>\n",
       "      <td>-6.068</td>\n",
       "      <td>-5.978</td>\n",
       "      <td>-10.236</td>\n",
       "    </tr>\n",
       "    <tr>\n",
       "      <th>hydroxyaniline</th>\n",
       "      <td>-8.257</td>\n",
       "      <td>-9.507</td>\n",
       "      <td>-10.032</td>\n",
       "      <td>0.0</td>\n",
       "      <td>-6.2</td>\n",
       "      <td>-4.037</td>\n",
       "      <td>-4.019</td>\n",
       "      <td>-3.816</td>\n",
       "      <td>-4.049</td>\n",
       "      <td>-8.162</td>\n",
       "    </tr>\n",
       "  </tbody>\n",
       "</table>\n",
       "</div>"
      ],
      "text/plain": [
       "                   PBE    VV10  B97M-V  Exp  50_snaps  PBE_bj  PBE_bjm  \\\n",
       "catechol       -11.517 -12.346 -12.182 -4.4      -9.0 -10.021  -10.017   \n",
       "methylphenol    -9.704 -10.891  -9.961 -4.4      -8.5  -6.098   -6.085   \n",
       "fluoroaniline   -6.475  -6.038  -6.484 -5.5      -5.9  -6.004   -6.011   \n",
       "hydroxyaniline  -8.257  -9.507 -10.032  0.0      -6.2  -4.037   -4.019   \n",
       "\n",
       "                PBE_old  PBE_zero      MM  \n",
       "catechol         -9.984   -10.055  -5.118  \n",
       "methylphenol     -5.923    -6.111  -7.050  \n",
       "fluoroaniline    -6.068    -5.978 -10.236  \n",
       "hydroxyaniline   -3.816    -4.049  -8.162  "
      ]
     },
     "execution_count": 257,
     "metadata": {},
     "output_type": "execute_result"
    }
   ],
   "source": [
    "functionals = ['PBE','VV10','B97M-V']\n",
    "phenol = load_data(pathlib.Path.cwd() / 'phenol_outfiles', functionals,correction=False, snapshots=snapshots_5)\n",
    "catechol = load_data(pathlib.Path.cwd() / 'catechol_outfiles',functionals,correction=False,snapshots=snapshots_5)\n",
    "fluoroaniline = load_data( pathlib.Path.cwd() / 'fluoroaniline_outfiles', functionals,correction=False,snapshots=snapshots_5)\n",
    "hydroxyaniline = load_data( pathlib.Path.cwd() / 'hydroxyaniline_outfiles', functionals,correction=False,snapshots=snapshots_5)\n",
    "\n",
    "# Special case for Methylphenol where some manual data manipulation is required due to restarted files\n",
    "# Manual corrections to BLYP not currently needed but kept for the record\n",
    "exclude_list_BLYP = ['complex_17201','host_17201','complex_24801','host_24801','complex_32401']\n",
    "exclude_list_VV10 = ['complex_24801','host_24801','complex_32401','host_32401']\n",
    "functionals = ['PBE','VV10','B97M-V']\n",
    "outfile_dir_root = pathlib.Path.cwd() / 'methylphenol_outfiles'\n",
    "list_of_mean_series = []\n",
    "for functional in functionals:\n",
    "    outfile_dir = outfile_dir_root / functional\n",
    "    if functional=='BLYP':\n",
    "        summary_df, mean_series = get_average_binding_manual(outfile_dir,correction=False,\n",
    "                                                            exclude_function=exclude_function,\n",
    "                                                            exclude_list=exclude_list_BLYP,\n",
    "                                                            functional='BLYP',snapshots=snapshots_5)\n",
    "    elif functional=='VV10':\n",
    "        summary_df, mean_series = get_average_binding_manual(outfile_dir,correction=False,\n",
    "                                                            exclude_function=exclude_function,\n",
    "                                                            exclude_list=exclude_list_VV10,\n",
    "                                                            functional='VV10',snapshots=snapshots_5)\n",
    "    else:\n",
    "        summary_df, mean_series = get_average_binding(outfile_dir,False,snapshots=snapshots_5)\n",
    "        \n",
    "    mean_series.name = functional\n",
    "    list_of_mean_series.append(mean_series)\n",
    "methylphenol = pd.concat(list_of_mean_series,axis=1)\n",
    "\n",
    "normalization_series = - 5.6 - phenol.loc['G_bind':,:] # find normalization vecotr based on exp value of 5.6 for phenol\n",
    "catechol_correction = catechol.loc['G_bind':,:] + normalization_series\n",
    "methylphenol_correction = methylphenol.loc['G_bind':,:] + normalization_series\n",
    "fluoroaniline_correction = fluoroaniline.loc['G_bind':,:] + normalization_series\n",
    "hydroxyaniline_correction = hydroxyaniline.loc['G_bind':,:] + normalization_series\n",
    "\n",
    "uncorrected_df_5 = catechol_correction.merge(methylphenol_correction,how='outer')\n",
    "uncorrected_df_5 = uncorrected_df_5.merge(fluoroaniline_correction,how='outer')\n",
    "uncorrected_df_5 = uncorrected_df_5.merge(hydroxyaniline_correction,how='outer')\n",
    "uncorrected_df_5['Exp']=[-4.4,-4.4,-5.5,0.0]\n",
    "uncorrected_df_5['50_snaps']=[-9.0,-8.5,-5.9,-6.2]\n",
    "uncorrected_df_5.rename(index = {0:'catechol',1:\"methylphenol\",2:'fluoroaniline',3:'hydroxyaniline'},inplace=True)\n",
    "uncorrected_df_5 = edit_pbe_df(uncorrected_df_5,df_rel_mean_disp_5)\n",
    "uncorrected_df_5['MM']=mm_5_uncorrected\n",
    "uncorrected_df_5"
   ]
  },
  {
   "cell_type": "code",
   "execution_count": null,
   "metadata": {},
   "outputs": [],
   "source": []
  },
  {
   "cell_type": "code",
   "execution_count": null,
   "metadata": {},
   "outputs": [],
   "source": []
  },
  {
   "cell_type": "code",
   "execution_count": null,
   "metadata": {},
   "outputs": [],
   "source": []
  }
 ],
 "metadata": {
  "kernelspec": {
   "display_name": "Python 3",
   "language": "python",
   "name": "python3"
  },
  "language_info": {
   "codemirror_mode": {
    "name": "ipython",
    "version": 3
   },
   "file_extension": ".py",
   "mimetype": "text/x-python",
   "name": "python",
   "nbconvert_exporter": "python",
   "pygments_lexer": "ipython3",
   "version": "3.7.3"
  }
 },
 "nbformat": 4,
 "nbformat_minor": 4
}
