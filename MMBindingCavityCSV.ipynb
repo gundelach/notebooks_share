{
 "cells": [
  {
   "cell_type": "markdown",
   "metadata": {},
   "source": [
    "# MM Binding with cavity correction to csv files"
   ]
  },
  {
   "cell_type": "code",
   "execution_count": 35,
   "metadata": {},
   "outputs": [],
   "source": [
    "# Loads stuff\n",
    "import sys\n",
    "sys.path.insert(0,\"/home/lg3u19/OnePy\")\n",
    "import onetep_v0_1 as op\n",
    "import pathlib\n",
    "import pandas as pd\n",
    "pd.set_option('display.precision',3) \n",
    "import copy"
   ]
  },
  {
   "cell_type": "code",
   "execution_count": 36,
   "metadata": {},
   "outputs": [],
   "source": [
    "csv_target_path = './ProcessedData/Binding'"
   ]
  },
  {
   "cell_type": "code",
   "execution_count": 37,
   "metadata": {},
   "outputs": [],
   "source": [
    "snapshots_5 = ['24801', '32401', '17201', '9601','2001'] \n",
    "snapshots_10 = ['24801', '32401', '17201', '13401', '21001', '28601', '9601', '5801','36201','2001'] \n",
    "snapshots_25 = [2001, 3521, 5041, 6561, 8081, 9601, 11121, 12641, 14161, 15681, 17201, 18721, 20241, 21761, 23281, 24801, 26321, 27841, 29361, 30881, 32401, 33921, 35441, 36961, 38481]\n",
    "snapshots_25 = [str(x) for x in snapshots_25]\n",
    "snapshots_50 = [2001, 2761, 3521, 4281, 5041, 5801, 6561, 7321, 8081, 8841, 9601, 10361, 11121, 11881, 12641, 13401, 14161, 14921, 15681, 16441, 17201, 17961, 18721, 19481, 20241, 21001, 21761, 22521, 23281, 24041, 24801, 25561, 26321, 27081, 27841, 28601, 29361, 30121, 30881, 31641, 32401, 33161, 33921, 34681, 35441, 36201, 36961, 37721, 38481, 39241]\n",
    "snapshots_50 = [str(x) for x in snapshots_50]"
   ]
  },
  {
   "cell_type": "code",
   "execution_count": null,
   "metadata": {},
   "outputs": [],
   "source": []
  },
  {
   "cell_type": "markdown",
   "metadata": {},
   "source": [
    "## Function for MM Binding energies"
   ]
  },
  {
   "cell_type": "code",
   "execution_count": 38,
   "metadata": {},
   "outputs": [],
   "source": [
    "# Creat a dictionary in which each ligand has a DF of all data from .csv files for every snapshot\n",
    "mm_dict = {}\n",
    "for ligand in ['phenol','methylphenol','catechol','fluoroaniline','hydroxyaniline']:\n",
    "    # load data from file\n",
    "    mm_data = pd.read_csv('MM-PBSA/'+ligand+'/MM-energies-solvation.csv',delimiter=';')\n",
    "    # set first column as index and relable to snaphot\n",
    "    mm_data = mm_data.set_index(mm_data.columns[0])\n",
    "    mm_data.index.name = 'snapshot'\n",
    "    # select only snaphsots and get ridd of rest of file\n",
    "    mm_data = mm_data.loc['2001':'39963',:]\n",
    "    # drop empyt columns \n",
    "    mm_data = mm_data.dropna(axis=1)\n",
    "    # deal with odd formatting of methylphenol file\n",
    "    if 'Unnamed: 13' in mm_data.columns:\n",
    "        mm_data = mm_data.drop('Unnamed: 13',axis=1)\n",
    "    # rename columns\n",
    "    mm_data.columns=['comp-gas','comp-polar',\n",
    "                        'comp-non-polar','comp-total','host-gas',\n",
    "                        'host-polar','host-non-polar','host-total',\n",
    "                        'lig-gas','lig-polar','lig-non-polar',\n",
    "                        'lig-total','net-gas','net-polar',\n",
    "                        'net-non-polar','net-total']\n",
    "    # change data type to numeric\n",
    "    mm_data = mm_data.apply(pd.to_numeric)\n",
    "    # add df to dictionary\n",
    "    mm_dict[ligand]=mm_data\n",
    "# make sure i dont accidenatlly use temp variable mm_data\n",
    "mm_data = False\n",
    "    "
   ]
  },
  {
   "cell_type": "code",
   "execution_count": 43,
   "metadata": {},
   "outputs": [],
   "source": [
    "def mm_binding_energy_clean_table(mm_data,snapshots):\n",
    "    \"\"\" given df with mm data on all snapshots, produced df with energy components\n",
    "    in standard format of qm calcs for easy comparison\"\"\"\n",
    "    # select subset \n",
    "    if snapshots=='All':\n",
    "        subset_df = mm_data.loc[:,:]\n",
    "    else:\n",
    "        subset_df = mm_data.loc[snapshots,:]\n",
    "    # determine mm cav correction term\n",
    "    subset_df['E']=subset_df['net-gas']\n",
    "    subset_df['G_solv']=subset_df['net-polar']+subset_df['net-non-polar']\n",
    "    subset_df['correction']=2*(subset_df['host-non-polar']-subset_df['comp-non-polar'])\n",
    "    subset_df['G_solv_corrected']=subset_df['G_solv']+subset_df['correction']\n",
    "    subset_df['G_bind']=subset_df['E']+subset_df['G_solv_corrected']\n",
    "    return subset_df.loc[:,['E','G_solv','G_solv_corrected','G_bind']]"
   ]
  },
  {
   "cell_type": "markdown",
   "metadata": {},
   "source": [
    "# Create csv with snapshot binding energy components for each ligand"
   ]
  },
  {
   "cell_type": "code",
   "execution_count": 44,
   "metadata": {},
   "outputs": [],
   "source": [
    "csv_targe = './ProcessedData/BindingComponentsMM/'\n",
    "for ligand in mm_dict.keys():\n",
    "    temp_df = mm_binding_energy_clean_table(mm_dict[ligand],snapshots_25)\n",
    "    filename = ligand+'_MM_25_corrected.csv'\n",
    "    temp_df.to_csv(csv_targe+filename)"
   ]
  },
  {
   "cell_type": "code",
   "execution_count": null,
   "metadata": {},
   "outputs": [],
   "source": []
  },
  {
   "cell_type": "code",
   "execution_count": null,
   "metadata": {},
   "outputs": [],
   "source": []
  },
  {
   "cell_type": "code",
   "execution_count": null,
   "metadata": {},
   "outputs": [],
   "source": []
  },
  {
   "cell_type": "code",
   "execution_count": null,
   "metadata": {},
   "outputs": [],
   "source": []
  }
 ],
 "metadata": {
  "kernelspec": {
   "display_name": "Python 3",
   "language": "python",
   "name": "python3"
  },
  "language_info": {
   "codemirror_mode": {
    "name": "ipython",
    "version": 3
   },
   "file_extension": ".py",
   "mimetype": "text/x-python",
   "name": "python",
   "nbconvert_exporter": "python",
   "pygments_lexer": "ipython3",
   "version": "3.7.3"
  }
 },
 "nbformat": 4,
 "nbformat_minor": 2
}
