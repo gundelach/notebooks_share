{
 "cells": [
  {
   "cell_type": "markdown",
   "metadata": {},
   "source": [
    "# Entropy Investigation\n",
    "The goal of this document is to understand the convergence of the entropy term, as well as how the entropy is calculated and applied to the relative binding energies."
   ]
  },
  {
   "cell_type": "code",
   "execution_count": null,
   "metadata": {},
   "outputs": [],
   "source": []
  },
  {
   "cell_type": "code",
   "execution_count": 1,
   "metadata": {},
   "outputs": [],
   "source": [
    "# Loads stuff\n",
    "import sys\n",
    "sys.path.insert(0,\"/home/lg3u19/OnePy\")\n",
    "import onetep_v0_1 as op\n",
    "import pathlib\n",
    "import pandas as pd\n",
    "pd.set_option('display.precision',3)\n",
    "import matplotlib.pyplot as plt\n",
    "import seaborn as sea\n",
    "import copy"
   ]
  },
  {
   "cell_type": "code",
   "execution_count": 2,
   "metadata": {},
   "outputs": [],
   "source": [
    "snapshots_5 = ['24801', '32401', '17201', '9601','2001'] \n",
    "snapshots_10 = ['24801', '32401', '17201', '13401', '21001', '28601', '9601', '5801','36201','2001'] \n",
    "snapshots_25 = [2001, 3521, 5041, 6561, 8081, 9601, 11121, 12641, 14161, 15681, 17201, 18721, 20241, 21761, 23281, 24801, 26321, 27841, 29361, 30881, 32401, 33921, 35441, 36961, 38481]\n",
    "snapshots_25 = [str(x) for x in snapshots_25]\n",
    "snapshots_50 = [2001, 2761, 3521, 4281, 5041, 5801, 6561, 7321, 8081, 8841, 9601, 10361, 11121, 11881, 12641, 13401, 14161, 14921, 15681, 16441, 17201, 17961, 18721, 19481, 20241, 21001, 21761, 22521, 23281, 24041, 24801, 25561, 26321, 27081, 27841, 28601, 29361, 30121, 30881, 31641, 32401, 33161, 33921, 34681, 35441, 36201, 36961, 37721, 38481, 39241]\n",
    "snapshots_50 = [str(x) for x in snapshots_50]"
   ]
  },
  {
   "cell_type": "code",
   "execution_count": 3,
   "metadata": {},
   "outputs": [],
   "source": [
    "# loading entropy data, same as in analysis.py\n",
    "entropy_dict ={}\n",
    "for ligand in ['phenol','methylphenol','catechol','fluoroaniline','hydroxyaniline']:\n",
    "    entropy_data = pd.read_csv('entropy/'+ligand+'_entropy.txt',delimiter=' ',names=['snapshot','S'])\n",
    "    entropy_data['snapshot'] = entropy_data['snapshot'].str.split('.').str[1]\n",
    "    entropy_data = entropy_data.set_index('snapshot') \n",
    "    entropy_data['S']=entropy_data['S'].str.strip('a')\n",
    "    entropy_data = entropy_data.apply(pd.to_numeric)\n",
    "    entropy_dict[ligand]=entropy_data\n",
    "entropy_data=False"
   ]
  },
  {
   "cell_type": "code",
   "execution_count": 7,
   "metadata": {},
   "outputs": [],
   "source": [
    "def entropy_mean(entropy_data,snapshots):\n",
    "    \"\"\" retruns mean over subset of snapshots for entropy, in future, all snaps must be \n",
    "    present , else key error raised...\"\"\"\n",
    "    #subset_df = entropy_data.loc[snapshots,:]\n",
    "    subset_df = entropy_data.reindex(snapshots)\n",
    "    return subset_df['S'].mean()"
   ]
  },
  {
   "cell_type": "code",
   "execution_count": 8,
   "metadata": {},
   "outputs": [],
   "source": [
    "def entropy_relative(entropy_dict,snapshots,ligands,reference='phenol'):\n",
    "    \"\"\" retruns series of mean entropies relative to reference \"\"\"\n",
    "    # get mean entropies over subset\n",
    "    temp_dict_mean = {}\n",
    "    for ligand1 in ligands:\n",
    "        temp_dict_mean[ligand1] = entropy_mean(entropy_dict[ligand1],snapshots)\n",
    "    # calc relative to reference entropy\n",
    "    temp_dict_rel = {}\n",
    "    for ligand2 in ligands:\n",
    "        if ligand2!=reference:\n",
    "            temp_dict_rel[ligand2] = temp_dict_mean[ligand2] - temp_dict_mean[reference]\n",
    "    return pd.Series(temp_dict_rel)"
   ]
  },
  {
   "cell_type": "code",
   "execution_count": 9,
   "metadata": {},
   "outputs": [],
   "source": [
    "def entropy_rel_wrapper(entropy_dict,index,paper=True):\n",
    "    list_of_series = []\n",
    "    list_of_names = []\n",
    "    # if passed a list of list of indexes\n",
    "    if all(isinstance(i, list) for i in index) == True:\n",
    "        for subset in index:\n",
    "            list_of_series.append(entropy_relative(entropy_dict,subset,entropy_dict.keys()))\n",
    "            list_of_names.append(len(subset))\n",
    "        entropy_paper = pd.Series({'catechol':-0.4,'methylphenol':-1.5,'fluoroaniline':-1.1,\n",
    "                           'hydroxyaniline':-1.1})\n",
    "        if paper==True:\n",
    "            list_of_series.append(entropy_paper)\n",
    "            list_of_names.append('paper')\n",
    "        return pd.concat(list_of_series,axis=1,keys=list_of_names,sort=True)\n",
    "        "
   ]
  },
  {
   "cell_type": "code",
   "execution_count": 10,
   "metadata": {},
   "outputs": [
    {
     "data": {
      "text/html": [
       "<div>\n",
       "<style scoped>\n",
       "    .dataframe tbody tr th:only-of-type {\n",
       "        vertical-align: middle;\n",
       "    }\n",
       "\n",
       "    .dataframe tbody tr th {\n",
       "        vertical-align: top;\n",
       "    }\n",
       "\n",
       "    .dataframe thead th {\n",
       "        text-align: right;\n",
       "    }\n",
       "</style>\n",
       "<table border=\"1\" class=\"dataframe\">\n",
       "  <thead>\n",
       "    <tr style=\"text-align: right;\">\n",
       "      <th></th>\n",
       "      <th>5</th>\n",
       "      <th>10</th>\n",
       "      <th>25</th>\n",
       "      <th>50</th>\n",
       "      <th>paper</th>\n",
       "    </tr>\n",
       "  </thead>\n",
       "  <tbody>\n",
       "    <tr>\n",
       "      <th>catechol</th>\n",
       "      <td>1.030</td>\n",
       "      <td>1.169</td>\n",
       "      <td>0.058</td>\n",
       "      <td>-0.396</td>\n",
       "      <td>-0.4</td>\n",
       "    </tr>\n",
       "    <tr>\n",
       "      <th>fluoroaniline</th>\n",
       "      <td>2.853</td>\n",
       "      <td>1.773</td>\n",
       "      <td>-0.647</td>\n",
       "      <td>-1.155</td>\n",
       "      <td>-1.1</td>\n",
       "    </tr>\n",
       "    <tr>\n",
       "      <th>hydroxyaniline</th>\n",
       "      <td>2.282</td>\n",
       "      <td>2.168</td>\n",
       "      <td>0.137</td>\n",
       "      <td>-1.013</td>\n",
       "      <td>-1.1</td>\n",
       "    </tr>\n",
       "    <tr>\n",
       "      <th>methylphenol</th>\n",
       "      <td>1.082</td>\n",
       "      <td>0.472</td>\n",
       "      <td>-1.198</td>\n",
       "      <td>-1.553</td>\n",
       "      <td>-1.5</td>\n",
       "    </tr>\n",
       "  </tbody>\n",
       "</table>\n",
       "</div>"
      ],
      "text/plain": [
       "                    5     10     25     50  paper\n",
       "catechol        1.030  1.169  0.058 -0.396   -0.4\n",
       "fluoroaniline   2.853  1.773 -0.647 -1.155   -1.1\n",
       "hydroxyaniline  2.282  2.168  0.137 -1.013   -1.1\n",
       "methylphenol    1.082  0.472 -1.198 -1.553   -1.5"
      ]
     },
     "execution_count": 10,
     "metadata": {},
     "output_type": "execute_result"
    }
   ],
   "source": [
    "df_entropy = entropy_rel_wrapper(entropy_dict,[snapshots_5,snapshots_10,snapshots_25,snapshots_50])\n",
    "df_entropy"
   ]
  },
  {
   "cell_type": "markdown",
   "metadata": {},
   "source": [
    "There does appear to be a trend of convergence from 25 to 50 snapshots was compared to 5 and 10. Clearly 5 and 10 are not converged at all. Given the large change between 25 and 50 still present, I assume that the entropy term over 50 snaps is not remotely converged. The values obtained by subtracting values in the table of the 2014 paper are within rounding errors of my 50 snapshot results. Hence, it is likely that A) I have the correct snaps B) I am processing results in the same manner"
   ]
  },
  {
   "cell_type": "markdown",
   "metadata": {},
   "source": [
    "## Analysis of Get-bash script"
   ]
  },
  {
   "cell_type": "raw",
   "metadata": {},
   "source": [
    "for i in complex*nab_out ; \n",
    "        do files=\"$i ${i//complex/host} ${i//complex/ligand}\" ; \n",
    "        if [ `grep  Total.*\\: $files | awk '{print NR}' | tail -n1` = \"3\" ] ; then\n",
    "                echo `echo $files| awk '{print $1}' ` ` grep Total.*\\: $files | awk '{A[NR]=$4}END{print (A[1]-A[2]-A[3])*0.3}'`a\n",
    "        fi\n",
    "done"
   ]
  },
  {
   "cell_type": "markdown",
   "metadata": {},
   "source": [
    "- Loops over all complex nab outfiles\n",
    "- for each complex file do for host and ligand file too\n",
    "- - grab line of text that begins Total, then grabs a number, which I presume to be the third column, i.e S\n",
    "- - apply the formula (complex-host-ligand)*0.3, appends letter a  \n",
    "0.3 factor is an approximate compound conversion factor, T=300k, nad cal/mol to kcal/mol"
   ]
  },
  {
   "cell_type": "code",
   "execution_count": 11,
   "metadata": {},
   "outputs": [
    {
     "data": {
      "text/html": [
       "<div>\n",
       "<style scoped>\n",
       "    .dataframe tbody tr th:only-of-type {\n",
       "        vertical-align: middle;\n",
       "    }\n",
       "\n",
       "    .dataframe tbody tr th {\n",
       "        vertical-align: top;\n",
       "    }\n",
       "\n",
       "    .dataframe thead th {\n",
       "        text-align: right;\n",
       "    }\n",
       "</style>\n",
       "<table border=\"1\" class=\"dataframe\">\n",
       "  <thead>\n",
       "    <tr style=\"text-align: right;\">\n",
       "      <th></th>\n",
       "      <th>S</th>\n",
       "    </tr>\n",
       "    <tr>\n",
       "      <th>snapshot</th>\n",
       "      <th></th>\n",
       "    </tr>\n",
       "  </thead>\n",
       "  <tbody>\n",
       "    <tr>\n",
       "      <th>24801</th>\n",
       "      <td>-17.709</td>\n",
       "    </tr>\n",
       "    <tr>\n",
       "      <th>32401</th>\n",
       "      <td>-16.143</td>\n",
       "    </tr>\n",
       "    <tr>\n",
       "      <th>17201</th>\n",
       "      <td>-12.536</td>\n",
       "    </tr>\n",
       "    <tr>\n",
       "      <th>9601</th>\n",
       "      <td>-16.011</td>\n",
       "    </tr>\n",
       "    <tr>\n",
       "      <th>2001</th>\n",
       "      <td>-19.271</td>\n",
       "    </tr>\n",
       "  </tbody>\n",
       "</table>\n",
       "</div>"
      ],
      "text/plain": [
       "               S\n",
       "snapshot        \n",
       "24801    -17.709\n",
       "32401    -16.143\n",
       "17201    -12.536\n",
       "9601     -16.011\n",
       "2001     -19.271"
      ]
     },
     "execution_count": 11,
     "metadata": {},
     "output_type": "execute_result"
    }
   ],
   "source": [
    "entropy_dict['phenol'].loc[[str(x) for x in snapshots_5],:]"
   ]
  },
  {
   "cell_type": "markdown",
   "metadata": {},
   "source": [
    "## Stude of convergence of Entropy  \n",
    "The idea is to sample randomly from the 50 entropy snaps to study the convergence of a) the net entropy values, b) the relative entropies w.r.t phenol"
   ]
  },
  {
   "cell_type": "code",
   "execution_count": 12,
   "metadata": {},
   "outputs": [
    {
     "data": {
      "text/plain": [
       "S   -14.219\n",
       "dtype: float64"
      ]
     },
     "execution_count": 12,
     "metadata": {},
     "output_type": "execute_result"
    }
   ],
   "source": [
    "entropy_dict['phenol'].mean()"
   ]
  },
  {
   "cell_type": "code",
   "execution_count": 13,
   "metadata": {},
   "outputs": [],
   "source": [
    "# build a function, that takes mean, std, sem or other and return df with that statistic over some subset\n",
    "def subset_statistic(data,index,statistic,column):\n",
    "    \"\"\" given df, index subset as list and column name, computes statistic\"\"\"\n",
    "    subset_df = data.reindex(index)\n",
    "    return getattr(subset_df[column],statistic)()"
   ]
  },
  {
   "cell_type": "code",
   "execution_count": 14,
   "metadata": {},
   "outputs": [],
   "source": [
    "def series_subset_statistic(data,index,statistics,column):\n",
    "    \"\"\" given data frame creates df of statistics of one column\n",
    "        statistics is list of statistics \"\"\"\n",
    "    temp_dict = {}\n",
    "    for statistic in statistics:\n",
    "        temp_dict[statistic] = subset_statistic(data,index,statistic,column)\n",
    "    return pd.Series(temp_dict)\n",
    "        "
   ]
  },
  {
   "cell_type": "code",
   "execution_count": 15,
   "metadata": {},
   "outputs": [],
   "source": [
    "def series_subset_statistic_indexes(data,indexes,statistic,column):\n",
    "    \"\"\" given data frame creates df of statistics of one column\n",
    "        indexes is nested list of indexes \"\"\"\n",
    "    temp_dict = {}\n",
    "    for index in indexes:\n",
    "        temp_dict[len(index)] = subset_statistic(data,index,statistic,column)\n",
    "    return pd.Series(temp_dict)\n",
    "        "
   ]
  },
  {
   "cell_type": "code",
   "execution_count": 16,
   "metadata": {},
   "outputs": [],
   "source": [
    "def df_subset_statistic(data_dict,index,statistics,column):\n",
    "    \"\"\" given dict of df, applies list of statistics to column in each and returns summary df\"\"\"\n",
    "    temp_dict = {}\n",
    "    # if list of lists of indexes give:  \n",
    "    if type(statistics) is list:\n",
    "        if any(isinstance(i, list) for i in index) == True:\n",
    "            print ('either list of stats or indexes')\n",
    "            return False\n",
    "        else:\n",
    "            for key in data_dict.keys():\n",
    "                temp_dict[key] = series_subset_statistic(data_dict[key],index,statistics,column)\n",
    "            return pd.DataFrame(temp_dict)\n",
    "    elif all(isinstance(i, list) for i in index) == True:\n",
    "        if type (statistics) is not list:\n",
    "            for key in data_dict.keys():\n",
    "                temp_dict[key] = series_subset_statistic_indexes(data_dict[key],index,statistics,column)\n",
    "            return pd.DataFrame(temp_dict)\n",
    "                \n",
    "    "
   ]
  },
  {
   "cell_type": "code",
   "execution_count": 17,
   "metadata": {},
   "outputs": [],
   "source": [
    "def df_subset_statistic(data_dict,index,statistics,column):\n",
    "    \"\"\" given dict of df, applies list of statistics to column in each and returns summary df\"\"\"\n",
    "    temp_dict = {}\n",
    "    # determine if list of statistics given and if nested list of indexes given\n",
    "    # is list of statistics given:\n",
    "    if type(statistics) is list:\n",
    "        # if indexes is a nested list :\n",
    "        if all(isinstance(i, list) for i in index) == True:\n",
    "            for key in data_dict.keys():\n",
    "                temp_dict_inner = {}\n",
    "                for subset in index:\n",
    "                    temp_dict_inner[len(subset)]=series_subset_statistic(data_dict[key],subset,statistics,column)\n",
    "                temp_dict[key]=temp_dict_inner\n",
    "            return op.df_from_dict_2nested(temp_dict)\n",
    "        else:\n",
    "            for key in data_dict.keys():\n",
    "                temp_dict[key] = series_subset_statistic(data_dict[key],index,statistics,column)\n",
    "            return pd.DataFrame(temp_dict)\n",
    "    elif all(isinstance(i, list) for i in index) == True:\n",
    "        if type (statistics) is not list:\n",
    "            for key in data_dict.keys():\n",
    "                temp_dict[key] = series_subset_statistic_indexes(data_dict[key],index,statistics,column)\n",
    "            return pd.DataFrame(temp_dict)\n",
    "                \n",
    "    "
   ]
  },
  {
   "cell_type": "code",
   "execution_count": null,
   "metadata": {},
   "outputs": [],
   "source": []
  },
  {
   "cell_type": "code",
   "execution_count": 18,
   "metadata": {},
   "outputs": [
    {
     "data": {
      "text/html": [
       "<div>\n",
       "<style scoped>\n",
       "    .dataframe tbody tr th:only-of-type {\n",
       "        vertical-align: middle;\n",
       "    }\n",
       "\n",
       "    .dataframe tbody tr th {\n",
       "        vertical-align: top;\n",
       "    }\n",
       "\n",
       "    .dataframe thead th {\n",
       "        text-align: right;\n",
       "    }\n",
       "</style>\n",
       "<table border=\"1\" class=\"dataframe\">\n",
       "  <thead>\n",
       "    <tr style=\"text-align: right;\">\n",
       "      <th></th>\n",
       "      <th>phenol</th>\n",
       "      <th>methylphenol</th>\n",
       "      <th>catechol</th>\n",
       "      <th>fluoroaniline</th>\n",
       "      <th>hydroxyaniline</th>\n",
       "    </tr>\n",
       "  </thead>\n",
       "  <tbody>\n",
       "    <tr>\n",
       "      <th>mean</th>\n",
       "      <td>-14.219</td>\n",
       "      <td>-15.772</td>\n",
       "      <td>-14.615</td>\n",
       "      <td>-15.374</td>\n",
       "      <td>-15.232</td>\n",
       "    </tr>\n",
       "    <tr>\n",
       "      <th>std</th>\n",
       "      <td>2.721</td>\n",
       "      <td>3.544</td>\n",
       "      <td>3.595</td>\n",
       "      <td>2.976</td>\n",
       "      <td>2.584</td>\n",
       "    </tr>\n",
       "    <tr>\n",
       "      <th>sem</th>\n",
       "      <td>0.385</td>\n",
       "      <td>0.506</td>\n",
       "      <td>0.508</td>\n",
       "      <td>0.421</td>\n",
       "      <td>0.369</td>\n",
       "    </tr>\n",
       "    <tr>\n",
       "      <th>var</th>\n",
       "      <td>7.404</td>\n",
       "      <td>12.561</td>\n",
       "      <td>12.927</td>\n",
       "      <td>8.854</td>\n",
       "      <td>6.675</td>\n",
       "    </tr>\n",
       "  </tbody>\n",
       "</table>\n",
       "</div>"
      ],
      "text/plain": [
       "      phenol  methylphenol  catechol  fluoroaniline  hydroxyaniline\n",
       "mean -14.219       -15.772   -14.615        -15.374         -15.232\n",
       "std    2.721         3.544     3.595          2.976           2.584\n",
       "sem    0.385         0.506     0.508          0.421           0.369\n",
       "var    7.404        12.561    12.927          8.854           6.675"
      ]
     },
     "execution_count": 18,
     "metadata": {},
     "output_type": "execute_result"
    }
   ],
   "source": [
    "summary_entropy = df_subset_statistic(entropy_dict,snapshots_50,['mean','std','sem','var'],column='S')\n",
    "summary_entropy"
   ]
  },
  {
   "cell_type": "code",
   "execution_count": 19,
   "metadata": {},
   "outputs": [
    {
     "data": {
      "text/html": [
       "<div>\n",
       "<style scoped>\n",
       "    .dataframe tbody tr th:only-of-type {\n",
       "        vertical-align: middle;\n",
       "    }\n",
       "\n",
       "    .dataframe tbody tr th {\n",
       "        vertical-align: top;\n",
       "    }\n",
       "\n",
       "    .dataframe thead th {\n",
       "        text-align: right;\n",
       "    }\n",
       "</style>\n",
       "<table border=\"1\" class=\"dataframe\">\n",
       "  <thead>\n",
       "    <tr style=\"text-align: right;\">\n",
       "      <th></th>\n",
       "      <th>phenol</th>\n",
       "      <th>methylphenol</th>\n",
       "      <th>catechol</th>\n",
       "      <th>fluoroaniline</th>\n",
       "      <th>hydroxyaniline</th>\n",
       "    </tr>\n",
       "  </thead>\n",
       "  <tbody>\n",
       "    <tr>\n",
       "      <th>5</th>\n",
       "      <td>1.120</td>\n",
       "      <td>0.884</td>\n",
       "      <td>0.865</td>\n",
       "      <td>1.766</td>\n",
       "      <td>1.678</td>\n",
       "    </tr>\n",
       "    <tr>\n",
       "      <th>10</th>\n",
       "      <td>0.807</td>\n",
       "      <td>0.763</td>\n",
       "      <td>1.477</td>\n",
       "      <td>1.003</td>\n",
       "      <td>0.905</td>\n",
       "    </tr>\n",
       "    <tr>\n",
       "      <th>25</th>\n",
       "      <td>0.556</td>\n",
       "      <td>0.785</td>\n",
       "      <td>0.636</td>\n",
       "      <td>0.615</td>\n",
       "      <td>0.547</td>\n",
       "    </tr>\n",
       "    <tr>\n",
       "      <th>50</th>\n",
       "      <td>0.385</td>\n",
       "      <td>0.506</td>\n",
       "      <td>0.508</td>\n",
       "      <td>0.421</td>\n",
       "      <td>0.369</td>\n",
       "    </tr>\n",
       "  </tbody>\n",
       "</table>\n",
       "</div>"
      ],
      "text/plain": [
       "    phenol  methylphenol  catechol  fluoroaniline  hydroxyaniline\n",
       "5    1.120         0.884     0.865          1.766           1.678\n",
       "10   0.807         0.763     1.477          1.003           0.905\n",
       "25   0.556         0.785     0.636          0.615           0.547\n",
       "50   0.385         0.506     0.508          0.421           0.369"
      ]
     },
     "execution_count": 19,
     "metadata": {},
     "output_type": "execute_result"
    }
   ],
   "source": [
    "convergence_entropy = df_subset_statistic(entropy_dict,[snapshots_5,snapshots_10,snapshots_25,snapshots_50],\n",
    "                                          'sem',column='S')\n",
    "convergence_entropy"
   ]
  },
  {
   "cell_type": "code",
   "execution_count": 20,
   "metadata": {},
   "outputs": [
    {
     "data": {
      "text/html": [
       "<div>\n",
       "<style scoped>\n",
       "    .dataframe tbody tr th:only-of-type {\n",
       "        vertical-align: middle;\n",
       "    }\n",
       "\n",
       "    .dataframe tbody tr th {\n",
       "        vertical-align: top;\n",
       "    }\n",
       "\n",
       "    .dataframe thead th {\n",
       "        text-align: right;\n",
       "    }\n",
       "</style>\n",
       "<table border=\"1\" class=\"dataframe\">\n",
       "  <thead>\n",
       "    <tr style=\"text-align: right;\">\n",
       "      <th></th>\n",
       "      <th></th>\n",
       "      <th>mean</th>\n",
       "      <th>std</th>\n",
       "      <th>sem</th>\n",
       "      <th>var</th>\n",
       "    </tr>\n",
       "  </thead>\n",
       "  <tbody>\n",
       "    <tr>\n",
       "      <th rowspan=\"4\" valign=\"top\">catechol</th>\n",
       "      <th>5</th>\n",
       "      <td>-15.304</td>\n",
       "      <td>1.935</td>\n",
       "      <td>0.865</td>\n",
       "      <td>3.744</td>\n",
       "    </tr>\n",
       "    <tr>\n",
       "      <th>10</th>\n",
       "      <td>-14.849</td>\n",
       "      <td>4.671</td>\n",
       "      <td>1.477</td>\n",
       "      <td>21.817</td>\n",
       "    </tr>\n",
       "    <tr>\n",
       "      <th>25</th>\n",
       "      <td>-14.785</td>\n",
       "      <td>3.181</td>\n",
       "      <td>0.636</td>\n",
       "      <td>10.121</td>\n",
       "    </tr>\n",
       "    <tr>\n",
       "      <th>50</th>\n",
       "      <td>-14.615</td>\n",
       "      <td>3.595</td>\n",
       "      <td>0.508</td>\n",
       "      <td>12.927</td>\n",
       "    </tr>\n",
       "    <tr>\n",
       "      <th rowspan=\"4\" valign=\"top\">fluoroaniline</th>\n",
       "      <th>5</th>\n",
       "      <td>-13.481</td>\n",
       "      <td>3.949</td>\n",
       "      <td>1.766</td>\n",
       "      <td>15.597</td>\n",
       "    </tr>\n",
       "    <tr>\n",
       "      <th>10</th>\n",
       "      <td>-14.245</td>\n",
       "      <td>3.173</td>\n",
       "      <td>1.003</td>\n",
       "      <td>10.065</td>\n",
       "    </tr>\n",
       "    <tr>\n",
       "      <th>25</th>\n",
       "      <td>-15.490</td>\n",
       "      <td>3.077</td>\n",
       "      <td>0.615</td>\n",
       "      <td>9.470</td>\n",
       "    </tr>\n",
       "    <tr>\n",
       "      <th>50</th>\n",
       "      <td>-15.374</td>\n",
       "      <td>2.976</td>\n",
       "      <td>0.421</td>\n",
       "      <td>8.854</td>\n",
       "    </tr>\n",
       "    <tr>\n",
       "      <th rowspan=\"4\" valign=\"top\">hydroxyaniline</th>\n",
       "      <th>5</th>\n",
       "      <td>-14.052</td>\n",
       "      <td>3.752</td>\n",
       "      <td>1.678</td>\n",
       "      <td>14.081</td>\n",
       "    </tr>\n",
       "    <tr>\n",
       "      <th>10</th>\n",
       "      <td>-13.850</td>\n",
       "      <td>2.863</td>\n",
       "      <td>0.905</td>\n",
       "      <td>8.195</td>\n",
       "    </tr>\n",
       "    <tr>\n",
       "      <th>25</th>\n",
       "      <td>-14.706</td>\n",
       "      <td>2.679</td>\n",
       "      <td>0.547</td>\n",
       "      <td>7.176</td>\n",
       "    </tr>\n",
       "    <tr>\n",
       "      <th>50</th>\n",
       "      <td>-15.232</td>\n",
       "      <td>2.584</td>\n",
       "      <td>0.369</td>\n",
       "      <td>6.675</td>\n",
       "    </tr>\n",
       "    <tr>\n",
       "      <th rowspan=\"4\" valign=\"top\">methylphenol</th>\n",
       "      <th>5</th>\n",
       "      <td>-15.252</td>\n",
       "      <td>1.976</td>\n",
       "      <td>0.884</td>\n",
       "      <td>3.903</td>\n",
       "    </tr>\n",
       "    <tr>\n",
       "      <th>10</th>\n",
       "      <td>-15.547</td>\n",
       "      <td>2.288</td>\n",
       "      <td>0.763</td>\n",
       "      <td>5.233</td>\n",
       "    </tr>\n",
       "    <tr>\n",
       "      <th>25</th>\n",
       "      <td>-16.041</td>\n",
       "      <td>3.925</td>\n",
       "      <td>0.785</td>\n",
       "      <td>15.404</td>\n",
       "    </tr>\n",
       "    <tr>\n",
       "      <th>50</th>\n",
       "      <td>-15.772</td>\n",
       "      <td>3.544</td>\n",
       "      <td>0.506</td>\n",
       "      <td>12.561</td>\n",
       "    </tr>\n",
       "    <tr>\n",
       "      <th rowspan=\"4\" valign=\"top\">phenol</th>\n",
       "      <th>5</th>\n",
       "      <td>-16.334</td>\n",
       "      <td>2.504</td>\n",
       "      <td>1.120</td>\n",
       "      <td>6.270</td>\n",
       "    </tr>\n",
       "    <tr>\n",
       "      <th>10</th>\n",
       "      <td>-16.018</td>\n",
       "      <td>2.552</td>\n",
       "      <td>0.807</td>\n",
       "      <td>6.513</td>\n",
       "    </tr>\n",
       "    <tr>\n",
       "      <th>25</th>\n",
       "      <td>-14.843</td>\n",
       "      <td>2.782</td>\n",
       "      <td>0.556</td>\n",
       "      <td>7.738</td>\n",
       "    </tr>\n",
       "    <tr>\n",
       "      <th>50</th>\n",
       "      <td>-14.219</td>\n",
       "      <td>2.721</td>\n",
       "      <td>0.385</td>\n",
       "      <td>7.404</td>\n",
       "    </tr>\n",
       "  </tbody>\n",
       "</table>\n",
       "</div>"
      ],
      "text/plain": [
       "                     mean    std    sem     var\n",
       "catechol       5  -15.304  1.935  0.865   3.744\n",
       "               10 -14.849  4.671  1.477  21.817\n",
       "               25 -14.785  3.181  0.636  10.121\n",
       "               50 -14.615  3.595  0.508  12.927\n",
       "fluoroaniline  5  -13.481  3.949  1.766  15.597\n",
       "               10 -14.245  3.173  1.003  10.065\n",
       "               25 -15.490  3.077  0.615   9.470\n",
       "               50 -15.374  2.976  0.421   8.854\n",
       "hydroxyaniline 5  -14.052  3.752  1.678  14.081\n",
       "               10 -13.850  2.863  0.905   8.195\n",
       "               25 -14.706  2.679  0.547   7.176\n",
       "               50 -15.232  2.584  0.369   6.675\n",
       "methylphenol   5  -15.252  1.976  0.884   3.903\n",
       "               10 -15.547  2.288  0.763   5.233\n",
       "               25 -16.041  3.925  0.785  15.404\n",
       "               50 -15.772  3.544  0.506  12.561\n",
       "phenol         5  -16.334  2.504  1.120   6.270\n",
       "               10 -16.018  2.552  0.807   6.513\n",
       "               25 -14.843  2.782  0.556   7.738\n",
       "               50 -14.219  2.721  0.385   7.404"
      ]
     },
     "execution_count": 20,
     "metadata": {},
     "output_type": "execute_result"
    }
   ],
   "source": [
    "list_of_indexes = [snapshots_5,snapshots_10,snapshots_25,snapshots_50]\n",
    "list_of_stats = ['mean','std','sem','var']\n",
    "summary_entropy = df_subset_statistic(entropy_dict,list_of_indexes,list_of_stats,column='S')\n",
    "summary_entropy.transpose()"
   ]
  },
  {
   "cell_type": "code",
   "execution_count": 21,
   "metadata": {},
   "outputs": [],
   "source": [
    "# now want to randomly sellect x number of snaps , create table , add all tables and devide by n to get average quantities\n",
    "import random \n",
    "sample_50 = random.sample(snapshots_50,50)"
   ]
  },
  {
   "cell_type": "code",
   "execution_count": 22,
   "metadata": {},
   "outputs": [],
   "source": [
    "def random_sampling_stats(N,population,sample_sizes,processing_function,arg_dict,index_arg='index'):\n",
    "    \"\"\" given a population of indexes, selects random samples of sizes sample_sizes and\n",
    "    applies the processing_function, with a list of smaples (sample_list), and arg_dict\"\"\"\n",
    "    count = 0\n",
    "    df_list = []\n",
    "    while count < N:\n",
    "        count +=1\n",
    "        sample_list = []\n",
    "        # generate list of samples of appropriate sizes\n",
    "        for size in sample_sizes:\n",
    "            sample_list.append(random.sample(population,size))\n",
    "        # adds the list of sumples as item in arg_dict with correct index_name, defaul name 'index'\n",
    "        # carefull if processing function takes only on index list, might need to modify to unpack\n",
    "        # one element list in that case\n",
    "        arg_dict[index_arg]=sample_list\n",
    "        # generate df for this iteration and append to list \n",
    "        df_list.append(processing_function(**arg_dict))\n",
    "    return df_list"
   ]
  },
  {
   "cell_type": "code",
   "execution_count": 23,
   "metadata": {},
   "outputs": [],
   "source": [
    "def average_over_multiple_df(list_of_df):\n",
    "    local_list = copy.deepcopy(list_of_df)\n",
    "    for i in range(1,len(local_list)):\n",
    "        local_list[0]+=local_list[i]\n",
    "    return local_list[0]/len(local_list)"
   ]
  },
  {
   "cell_type": "code",
   "execution_count": null,
   "metadata": {},
   "outputs": [],
   "source": [
    "arg_dict = {'data_dict':entropy_dict, 'statistics':['mean','std','sem','var'], 'column':'S'}\n",
    "df_list = random_sampling_stats(100,snapshots_50,list(range(2,51)),df_subset_statistic,arg_dict)\n",
    "average = average_over_multiple_df(df_list)"
   ]
  },
  {
   "cell_type": "code",
   "execution_count": 24,
   "metadata": {},
   "outputs": [],
   "source": [
    "arg_dict = {'data_dict':entropy_dict, 'statistics':'sem', 'column':'S'}\n",
    "df_list_sem = random_sampling_stats(100,snapshots_50,list(range(5,51)),df_subset_statistic,arg_dict)\n",
    "average_sem = average_over_multiple_df(df_list_sem)"
   ]
  },
  {
   "cell_type": "code",
   "execution_count": null,
   "metadata": {},
   "outputs": [],
   "source": []
  },
  {
   "cell_type": "code",
   "execution_count": 25,
   "metadata": {},
   "outputs": [
    {
     "data": {
      "text/plain": [
       "Text(0.5, 0, 'Num of snaps')"
      ]
     },
     "execution_count": 25,
     "metadata": {},
     "output_type": "execute_result"
    },
    {
     "data": {
      "image/png": "[encoded data removed]",
      "text/plain": [
       "<Figure size 432x288 with 1 Axes>"
      ]
     },
     "metadata": {
      "needs_background": "light"
     },
     "output_type": "display_data"
    }
   ],
   "source": [
    "convergence = sea.scatterplot(data=average_sem)\n",
    "convergence.set_title('Mean Standrad error of mean over 100 random draws')\n",
    "convergence.set_ylabel('SE kcal/mol')\n",
    "convergence.set_xlabel('Num of snaps')"
   ]
  },
  {
   "cell_type": "markdown",
   "metadata": {},
   "source": [
    "# Look at convergence of Entropy correction term to binding energies5"
   ]
  },
  {
   "cell_type": "code",
   "execution_count": 26,
   "metadata": {},
   "outputs": [],
   "source": [
    "# process list of dfs to study convergence of mean over resamples with x number of snaps\n",
    "# look at only one ligand for now\n",
    "def convergence_of_mean(df_list,indexes=['catechol','fluoroaniline'],columns=[5,10,15,25],bin_width=5):\n",
    "    \"\"\" given list of df of same shape, calcs mean over ever increasing subsets of this list of df, \n",
    "    for indexes in indexes and columns in columns, with increments of bin_width \"\"\"\n",
    "    # create dictionary of correct structure\n",
    "    temp_dict = {}\n",
    "    for index in indexes:\n",
    "        temp_dict[index] = {}\n",
    "        for column in columns:\n",
    "            temp_dict[index][column]=[]\n",
    "    # loop over substes of df_list of increasing size by increment bin_width\n",
    "    index_list = []\n",
    "    for i in range(bin_width,int(len(df_list)+bin_width),bin_width):\n",
    "        index_list.append(i)\n",
    "        temp_average_df = average_over_multiple_df(df_list[0:i])\n",
    "        for index in indexes:\n",
    "            for column in columns:\n",
    "                temp_dict[index][column].append(temp_average_df.loc[index,column])\n",
    "    return temp_dict, index_list\n",
    "    "
   ]
  },
  {
   "cell_type": "code",
   "execution_count": null,
   "metadata": {},
   "outputs": [],
   "source": []
  },
  {
   "cell_type": "code",
   "execution_count": null,
   "metadata": {},
   "outputs": [],
   "source": []
  },
  {
   "cell_type": "code",
   "execution_count": 27,
   "metadata": {},
   "outputs": [
    {
     "data": {
      "text/plain": [
       "<matplotlib.axes._subplots.AxesSubplot at 0x1a22f2f438>"
      ]
     },
     "execution_count": 27,
     "metadata": {},
     "output_type": "execute_result"
    },
    {
     "data": {
      "image/png": "[encoded data removed]",
      "text/plain": [
       "<Figure size 432x288 with 1 Axes>"
      ]
     },
     "metadata": {
      "needs_background": "light"
     },
     "output_type": "display_data"
    }
   ],
   "source": [
    "arg_dict = {'entropy_dict':entropy_dict}\n",
    "correction_term_list = random_sampling_stats(1000,snapshots_50,[5,10,15,25,50],entropy_rel_wrapper,arg_dict,index_arg='index')\n",
    "correction_term_average = average_over_multiple_df(correction_term_list)\n",
    "correction_term_average\n",
    "\n",
    "convergence_of_mean_dict, index_list = convergence_of_mean(correction_term_list)\n",
    "catechol_mean_conv = pd.DataFrame(convergence_of_mean_dict['catechol'])\n",
    "catechol_mean_conv['n'] = index_list\n",
    "catechol_mean_conv = catechol_mean_conv.set_index('n')\n",
    "sea.scatterplot(data=catechol_mean_conv)"
   ]
  },
  {
   "cell_type": "markdown",
   "metadata": {},
   "source": [
    "# Draw individual conversion lines for random choices at 1,2,3 ... 50 snaps for one ligand"
   ]
  },
  {
   "cell_type": "code",
   "execution_count": null,
   "metadata": {},
   "outputs": [],
   "source": []
  },
  {
   "cell_type": "code",
   "execution_count": 28,
   "metadata": {},
   "outputs": [
    {
     "data": {
      "text/plain": [
       "Text(0, 0.5, 'Relative entropy correction kcal/mol')"
      ]
     },
     "execution_count": 28,
     "metadata": {},
     "output_type": "execute_result"
    },
    {
     "data": {
      "image/png": "[encoded data removed]",
      "text/plain": [
       "<Figure size 432x288 with 1 Axes>"
      ]
     },
     "metadata": {
      "needs_background": "light"
     },
     "output_type": "display_data"
    }
   ],
   "source": [
    "arg_dict = {'entropy_dict':entropy_dict,'paper':False}\n",
    "correction_term_list = random_sampling_stats(1,snapshots_50,list(range(1,51)),entropy_rel_wrapper,arg_dict,index_arg='index')\n",
    "correction_term_average = average_over_multiple_df(correction_term_list)\n",
    "plot_random_sample_convergence = sea.lineplot(data=correction_term_average.transpose())\n",
    "plot_random_sample_convergence.set_title('Entropy correction at N random selected snaps')\n",
    "plot_random_sample_convergence.set_xlabel('Randomly selected snaps')\n",
    "plot_random_sample_convergence.set_ylabel('Relative entropy correction kcal/mol')"
   ]
  },
  {
   "cell_type": "code",
   "execution_count": 29,
   "metadata": {},
   "outputs": [
    {
     "data": {
      "text/plain": [
       "Text(0, 0.5, 'Relative entropy correction kcal/mol')"
      ]
     },
     "execution_count": 29,
     "metadata": {},
     "output_type": "execute_result"
    },
    {
     "data": {
      "image/png": "[encoded data removed]",
      "text/plain": [
       "<Figure size 432x288 with 1 Axes>"
      ]
     },
     "metadata": {
      "needs_background": "light"
     },
     "output_type": "display_data"
    }
   ],
   "source": [
    "arg_dict = {'entropy_dict':entropy_dict,'paper':False}\n",
    "correction_term_list = random_sampling_stats(100,snapshots_50,list(range(1,51)),entropy_rel_wrapper,arg_dict,index_arg='index')\n",
    "correction_term_average = average_over_multiple_df(correction_term_list)\n",
    "plot_random_sample_convergence = sea.lineplot(data=correction_term_average.transpose())\n",
    "plot_random_sample_convergence.set_title('Entropy correction at N random selected snaps,averaged over 100 trials')\n",
    "plot_random_sample_convergence.set_xlabel('Randomly selected snaps')\n",
    "plot_random_sample_convergence.set_ylabel('Relative entropy correction kcal/mol')\n"
   ]
  },
  {
   "cell_type": "code",
   "execution_count": null,
   "metadata": {},
   "outputs": [],
   "source": []
  },
  {
   "cell_type": "code",
   "execution_count": null,
   "metadata": {},
   "outputs": [],
   "source": []
  },
  {
   "cell_type": "code",
   "execution_count": null,
   "metadata": {},
   "outputs": [],
   "source": []
  },
  {
   "cell_type": "code",
   "execution_count": null,
   "metadata": {},
   "outputs": [],
   "source": []
  }
 ],
 "metadata": {
  "kernelspec": {
   "display_name": "Python 3",
   "language": "python",
   "name": "python3"
  },
  "language_info": {
   "codemirror_mode": {
    "name": "ipython",
    "version": 3
   },
   "file_extension": ".py",
   "mimetype": "text/x-python",
   "name": "python",
   "nbconvert_exporter": "python",
   "pygments_lexer": "ipython3",
   "version": "3.7.3"
  }
 },
 "nbformat": 4,
 "nbformat_minor": 2
}
