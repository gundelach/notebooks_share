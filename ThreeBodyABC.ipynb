{
 "cells": [
  {
   "cell_type": "markdown",
   "metadata": {},
   "source": [
    "# Three body term"
   ]
  },
  {
   "cell_type": "code",
   "execution_count": 10,
   "metadata": {},
   "outputs": [],
   "source": [
    "# Loads stuff\n",
    "import sys\n",
    "sys.path.insert(0,\"/home/lg3u19/OnePy\")\n",
    "import onetep_v0_1 as op\n",
    "import pathlib\n",
    "import pandas as pd\n",
    "pd.set_option('display.precision',3) \n",
    "import copy"
   ]
  },
  {
   "cell_type": "code",
   "execution_count": 11,
   "metadata": {},
   "outputs": [],
   "source": [
    "csv_target_path = './ProcessedData/ThreeBody'"
   ]
  },
  {
   "cell_type": "code",
   "execution_count": 22,
   "metadata": {},
   "outputs": [],
   "source": [
    "ligands = ['phenol','methylphenol','catechol','fluoroaniline','hydroxyaniline']\n",
    "snapshots_5 = ['24801', '32401', '17201', '9601','2001'] \n",
    "snapshots_10 = ['24801', '32401', '17201', '13401', '21001', '28601', '9601', '5801','36201','2001'] \n",
    "snapshots_25 = [2001, 3521, 5041, 6561, 8081, 9601, 11121, 12641, 14161, 15681, 17201, 18721, 20241, 21761, 23281, 24801, 26321, 27841, 29361, 30881, 32401, 33921, 35441, 36961, 38481]\n",
    "snapshots_25 = [str(x) for x in snapshots_25]\n",
    "snapshots_50 = [2001, 2761, 3521, 4281, 5041, 5801, 6561, 7321, 8081, 8841, 9601, 10361, 11121, 11881, 12641, 13401, 14161, 14921, 15681, 16441, 17201, 17961, 18721, 19481, 20241, 21001, 21761, 22521, 23281, 24041, 24801, 25561, 26321, 27081, 27841, 28601, 29361, 30121, 30881, 31641, 32401, 33161, 33921, 34681, 35441, 36201, 36961, 37721, 38481, 39241]\n",
    "snapshots_50 = [str(x) for x in snapshots_50]"
   ]
  },
  {
   "cell_type": "markdown",
   "metadata": {},
   "source": [
    "## Functions for Three Body Term"
   ]
  },
  {
   "cell_type": "code",
   "execution_count": 29,
   "metadata": {},
   "outputs": [],
   "source": [
    "def load_disp_from_folder(root,exclude_list=[\".\",\"_\",\",\"],dat_file_name='disp.data'):\n",
    "    \"\"\" goes through folders in root dir and loads csv files into dict by folder name\n",
    "    folder correspond to ligands \"\"\"\n",
    "    root = pathlib.Path(root) \n",
    "    disp_dict = {}\n",
    "    for folder in root.iterdir():\n",
    "        if folder.is_dir():\n",
    "            if folder.name[0] not in exclude_list:\n",
    "                disp_dict[folder.name]=pd.read_csv(folder/dat_file_name,sep=' ')\n",
    "    return disp_dict "
   ]
  },
  {
   "cell_type": "code",
   "execution_count": 30,
   "metadata": {},
   "outputs": [],
   "source": [
    "def process_disp(disp_dict,snapshots):\n",
    "    \"\"\" return dictionary of mean net dispersion over a subset of snapshots\"\"\"\n",
    "    mean_dict = {}\n",
    "    for key in disp_dict.keys():\n",
    "        # select subset of snaps\n",
    "        subset = disp_dict[key].loc[[int(x) for x in snapshots],:]\n",
    "        # calc net dispersion term\n",
    "        subset['diff']=subset['complex']-subset['host']-subset['ligand']\n",
    "        mean_dict[key]=subset.mean()['diff']\n",
    "    return mean_dict"
   ]
  },
  {
   "cell_type": "code",
   "execution_count": 31,
   "metadata": {},
   "outputs": [],
   "source": [
    "def series_relative_values(input_dict,snapshots,ligands,reference='phenol'):\n",
    "    \"\"\" retruns series of mean values relative to reference \"\"\"\n",
    "    # calc relative to reference entropy\n",
    "    temp_dict_rel = {}\n",
    "    for ligand2 in ligands:\n",
    "        if ligand2!=reference:\n",
    "            temp_dict_rel[ligand2] = input_dict[ligand2] - input_dict[reference]\n",
    "    return pd.Series(temp_dict_rel)"
   ]
  },
  {
   "cell_type": "code",
   "execution_count": 32,
   "metadata": {},
   "outputs": [],
   "source": [
    "abc = load_disp_from_folder('./three_body',dat_file_name='disp_abc.data')"
   ]
  },
  {
   "cell_type": "code",
   "execution_count": 33,
   "metadata": {},
   "outputs": [
    {
     "data": {
      "text/plain": [
       "{'hydroxyaniline': 0.06358929999999975,\n",
       " 'methylphenol': 0.054917499999999855,\n",
       " 'phenol': 0.053026700000000225,\n",
       " 'catechol': 0.052903100000000355,\n",
       " 'fluoroaniline': 0.051022599999999675}"
      ]
     },
     "execution_count": 33,
     "metadata": {},
     "output_type": "execute_result"
    }
   ],
   "source": [
    "abc_mean = process_disp(abc,snapshots_10)\n",
    "abc_mean"
   ]
  },
  {
   "cell_type": "code",
   "execution_count": 34,
   "metadata": {},
   "outputs": [
    {
     "data": {
      "text/plain": [
       "methylphenol      1.891e-03\n",
       "catechol         -1.236e-04\n",
       "fluoroaniline    -2.004e-03\n",
       "hydroxyaniline    1.056e-02\n",
       "dtype: float64"
      ]
     },
     "execution_count": 34,
     "metadata": {},
     "output_type": "execute_result"
    }
   ],
   "source": [
    "abc_rel = series_relative_values(abc_mean,snapshots_50,ligands)\n",
    "abc_rel"
   ]
  },
  {
   "cell_type": "markdown",
   "metadata": {},
   "source": [
    "The ABC term contributes <1% to total energies. Its change upon binding i about 0.05kcal/mol. And the change relative to phenol, so the ammount by which it would modify relative binding free energies is on the order 10^-3 kcal/mol. Well below accuracy of the term. So not needed in this system: Think about why and contrast with Grimme benchmarking study,"
   ]
  },
  {
   "cell_type": "code",
   "execution_count": null,
   "metadata": {},
   "outputs": [],
   "source": []
  }
 ],
 "metadata": {
  "kernelspec": {
   "display_name": "Python 3",
   "language": "python",
   "name": "python3"
  },
  "language_info": {
   "codemirror_mode": {
    "name": "ipython",
    "version": 3
   },
   "file_extension": ".py",
   "mimetype": "text/x-python",
   "name": "python",
   "nbconvert_exporter": "python",
   "pygments_lexer": "ipython3",
   "version": "3.7.3"
  }
 },
 "nbformat": 4,
 "nbformat_minor": 2
}
