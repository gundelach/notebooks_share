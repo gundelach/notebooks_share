{
 "cells": [
  {
   "cell_type": "markdown",
   "metadata": {},
   "source": [
    "# Strong Scaling"
   ]
  },
  {
   "cell_type": "code",
   "execution_count": 9,
   "metadata": {},
   "outputs": [],
   "source": [
    "import sys\n",
    "sys.path.insert(0,\"/home/lg3u19/Documents/OnetepUtils/OnePY\")\n",
    "import onetep_v0_1 as op\n",
    "import pathlib\n",
    "import pandas as pd\n",
    "import matplotlib.pyplot as plt\n",
    "import seaborn as sns\n",
    "sns.set()"
   ]
  },
  {
   "cell_type": "code",
   "execution_count": 10,
   "metadata": {},
   "outputs": [
    {
     "name": "stdout",
     "output_type": "stream",
     "text": [
      "rm: cannot remove ‘/home/lg3u19/Documents/PerformanceTesting/strong_scaling/n03/slurm*’: No such file or directory\n",
      "rm: cannot remove ‘/home/lg3u19/Documents/PerformanceTesting/strong_scaling/n16/slurm*’: No such file or directory\n",
      "rm: cannot remove ‘/home/lg3u19/Documents/PerformanceTesting/strong_scaling/n05/slurm*’: No such file or directory\n",
      "rm: cannot remove ‘/home/lg3u19/Documents/PerformanceTesting/strong_scaling/n18/slurm*’: No such file or directory\n",
      "rm: cannot remove ‘/home/lg3u19/Documents/PerformanceTesting/strong_scaling/n24/slurm*’: No such file or directory\n",
      "rm: cannot remove ‘/home/lg3u19/Documents/PerformanceTesting/strong_scaling/n07/slurm*’: No such file or directory\n",
      "rm: cannot remove ‘/home/lg3u19/Documents/PerformanceTesting/strong_scaling/n13/slurm*’: No such file or directory\n",
      "rm: cannot remove ‘/home/lg3u19/Documents/PerformanceTesting/strong_scaling/n10/slurm*’: No such file or directory\n",
      "rm: cannot remove ‘/home/lg3u19/Documents/PerformanceTesting/strong_scaling/.ipynb_checkpoints/slurm*’: No such file or directory\n"
     ]
    }
   ],
   "source": [
    "# remove all the slurm .out files from directory\n",
    "for directory in pathlib.Path.cwd().iterdir():\n",
    "    if directory.is_dir():\n",
    "        !rm $directory/slurm*"
   ]
  },
  {
   "cell_type": "code",
   "execution_count": 11,
   "metadata": {},
   "outputs": [],
   "source": [
    "raw = op.load_from_dir(\"./\",pass_format_flag=False)"
   ]
  },
  {
   "cell_type": "code",
   "execution_count": 12,
   "metadata": {},
   "outputs": [],
   "source": [
    "for key in raw.keys():\n",
    "    for nested_key in raw[key].keys():\n",
    "        raw[key][nested_key].get_all()"
   ]
  },
  {
   "cell_type": "code",
   "execution_count": 13,
   "metadata": {},
   "outputs": [
    {
     "data": {
      "text/plain": [
       "{'n03': {'p016_20': <onetep_v0_1.ONETEP at 0x7f31de160ac8>},\n",
       " 'n16': {'p016_20': <onetep_v0_1.ONETEP at 0x7f31de160a90>},\n",
       " 'n05': {'p016_20': <onetep_v0_1.ONETEP at 0x7f31de160128>},\n",
       " 'n18': {'p016_20': <onetep_v0_1.ONETEP at 0x7f31de160e48>},\n",
       " 'n24': {'p016_20': <onetep_v0_1.ONETEP at 0x7f31de160b70>},\n",
       " 'n07': {'p016_20': <onetep_v0_1.ONETEP at 0x7f31de160160>},\n",
       " 'n13': {'p016_20': <onetep_v0_1.ONETEP at 0x7f31de1606a0>},\n",
       " 'n10': {'p016_20': <onetep_v0_1.ONETEP at 0x7f31ddaa4748>},\n",
       " 'n02': {'p016_20': <onetep_v0_1.ONETEP at 0x7f31de19b4e0>},\n",
       " 'n32': {'p016_20': <onetep_v0_1.ONETEP at 0x7f31de2442e8>}}"
      ]
     },
     "execution_count": 13,
     "metadata": {},
     "output_type": "execute_result"
    }
   ],
   "source": [
    "raw"
   ]
  },
  {
   "cell_type": "code",
   "execution_count": 14,
   "metadata": {},
   "outputs": [
    {
     "data": {
      "text/html": [
       "<div>\n",
       "<style scoped>\n",
       "    .dataframe tbody tr th:only-of-type {\n",
       "        vertical-align: middle;\n",
       "    }\n",
       "\n",
       "    .dataframe tbody tr th {\n",
       "        vertical-align: top;\n",
       "    }\n",
       "\n",
       "    .dataframe thead th {\n",
       "        text-align: right;\n",
       "    }\n",
       "</style>\n",
       "<table border=\"1\" class=\"dataframe\">\n",
       "  <thead>\n",
       "    <tr style=\"text-align: right;\">\n",
       "      <th></th>\n",
       "      <th>time</th>\n",
       "      <th>atoms</th>\n",
       "      <th>time_m</th>\n",
       "      <th>nodes</th>\n",
       "      <th>cores</th>\n",
       "      <th>speedup</th>\n",
       "    </tr>\n",
       "  </thead>\n",
       "  <tbody>\n",
       "    <tr>\n",
       "      <td>n32</td>\n",
       "      <td>1121.714</td>\n",
       "      <td>1712</td>\n",
       "      <td>18.695233</td>\n",
       "      <td>32</td>\n",
       "      <td>1280</td>\n",
       "      <td>0.064187</td>\n",
       "    </tr>\n",
       "    <tr>\n",
       "      <td>n24</td>\n",
       "      <td>1149.877</td>\n",
       "      <td>1712</td>\n",
       "      <td>19.164617</td>\n",
       "      <td>24</td>\n",
       "      <td>960</td>\n",
       "      <td>0.062615</td>\n",
       "    </tr>\n",
       "    <tr>\n",
       "      <td>n18</td>\n",
       "      <td>1170.300</td>\n",
       "      <td>1712</td>\n",
       "      <td>19.505000</td>\n",
       "      <td>18</td>\n",
       "      <td>720</td>\n",
       "      <td>0.061523</td>\n",
       "    </tr>\n",
       "    <tr>\n",
       "      <td>n16</td>\n",
       "      <td>1316.279</td>\n",
       "      <td>1712</td>\n",
       "      <td>21.937983</td>\n",
       "      <td>16</td>\n",
       "      <td>640</td>\n",
       "      <td>0.054700</td>\n",
       "    </tr>\n",
       "    <tr>\n",
       "      <td>n13</td>\n",
       "      <td>1433.181</td>\n",
       "      <td>1712</td>\n",
       "      <td>23.886350</td>\n",
       "      <td>13</td>\n",
       "      <td>520</td>\n",
       "      <td>0.050238</td>\n",
       "    </tr>\n",
       "    <tr>\n",
       "      <td>n10</td>\n",
       "      <td>1656.212</td>\n",
       "      <td>1712</td>\n",
       "      <td>27.603533</td>\n",
       "      <td>10</td>\n",
       "      <td>400</td>\n",
       "      <td>0.043473</td>\n",
       "    </tr>\n",
       "    <tr>\n",
       "      <td>n07</td>\n",
       "      <td>2119.538</td>\n",
       "      <td>1712</td>\n",
       "      <td>35.325633</td>\n",
       "      <td>7</td>\n",
       "      <td>280</td>\n",
       "      <td>0.033970</td>\n",
       "    </tr>\n",
       "    <tr>\n",
       "      <td>n05</td>\n",
       "      <td>3037.842</td>\n",
       "      <td>1712</td>\n",
       "      <td>50.630700</td>\n",
       "      <td>5</td>\n",
       "      <td>200</td>\n",
       "      <td>0.023701</td>\n",
       "    </tr>\n",
       "    <tr>\n",
       "      <td>n03</td>\n",
       "      <td>4258.590</td>\n",
       "      <td>1712</td>\n",
       "      <td>70.976500</td>\n",
       "      <td>3</td>\n",
       "      <td>120</td>\n",
       "      <td>0.016907</td>\n",
       "    </tr>\n",
       "    <tr>\n",
       "      <td>n02</td>\n",
       "      <td>5918.101</td>\n",
       "      <td>1712</td>\n",
       "      <td>98.635017</td>\n",
       "      <td>2</td>\n",
       "      <td>80</td>\n",
       "      <td>0.012166</td>\n",
       "    </tr>\n",
       "  </tbody>\n",
       "</table>\n",
       "</div>"
      ],
      "text/plain": [
       "         time  atoms     time_m  nodes  cores   speedup\n",
       "n32  1121.714   1712  18.695233     32   1280  0.064187\n",
       "n24  1149.877   1712  19.164617     24    960  0.062615\n",
       "n18  1170.300   1712  19.505000     18    720  0.061523\n",
       "n16  1316.279   1712  21.937983     16    640  0.054700\n",
       "n13  1433.181   1712  23.886350     13    520  0.050238\n",
       "n10  1656.212   1712  27.603533     10    400  0.043473\n",
       "n07  2119.538   1712  35.325633      7    280  0.033970\n",
       "n05  3037.842   1712  50.630700      5    200  0.023701\n",
       "n03  4258.590   1712  70.976500      3    120  0.016907\n",
       "n02  5918.101   1712  98.635017      2     80  0.012166"
      ]
     },
     "execution_count": 14,
     "metadata": {},
     "output_type": "execute_result"
    }
   ],
   "source": [
    "temp_dict = {}\n",
    "for key in raw.keys():\n",
    "    for nested_key in raw[key].keys():\n",
    "        temp_dict[key]=[raw[key][nested_key].time_total,raw[key][nested_key].atoms_total]\n",
    "timings = pd.DataFrame.from_dict(temp_dict,columns=[\"time\",'atoms'],orient='index')\n",
    "timings = timings.sort_values(by=['time'])\n",
    "timings['time_m']=timings['time']/60.0\n",
    "timings['nodes']=timings.index.str.slice(start=1)\n",
    "timings['nodes']=timings['nodes'].astype('int')\n",
    "timings['cores']=timings['nodes']*40\n",
    "timings['speedup']=1.2/timings['time_m']\n",
    "timings"
   ]
  },
  {
   "cell_type": "code",
   "execution_count": 15,
   "metadata": {},
   "outputs": [
    {
     "data": {
      "text/plain": [
       "Text(0.5, 1.0, 'Strong Scaling')"
      ]
     },
     "execution_count": 15,
     "metadata": {},
     "output_type": "execute_result"
    },
    {
     "data": {
      "image/png": "[encoded data removed]",
      "text/plain": [
       "<Figure size 432x288 with 1 Axes>"
      ]
     },
     "metadata": {},
     "output_type": "display_data"
    }
   ],
   "source": [
    "plot = sns.lineplot(data=timings,x='cores',y='time_m')\n",
    "plot.set_title('Strong Scaling')\n"
   ]
  },
  {
   "cell_type": "code",
   "execution_count": 22,
   "metadata": {},
   "outputs": [
    {
     "data": {
      "image/png": "[encoded data removed]",
      "text/plain": [
       "<Figure size 432x288 with 1 Axes>"
      ]
     },
     "metadata": {},
     "output_type": "display_data"
    }
   ],
   "source": [
    "\n",
    "plot = sns.scatterplot(data=timings,x='cores',y='speedup')"
   ]
  },
  {
   "cell_type": "code",
   "execution_count": null,
   "metadata": {},
   "outputs": [],
   "source": []
  },
  {
   "cell_type": "code",
   "execution_count": null,
   "metadata": {},
   "outputs": [],
   "source": []
  }
 ],
 "metadata": {
  "kernelspec": {
   "display_name": "Python 3",
   "language": "python",
   "name": "python3"
  },
  "language_info": {
   "codemirror_mode": {
    "name": "ipython",
    "version": 3
   },
   "file_extension": ".py",
   "mimetype": "text/x-python",
   "name": "python",
   "nbconvert_exporter": "python",
   "pygments_lexer": "ipython3",
   "version": "3.6.8"
  }
 },
 "nbformat": 4,
 "nbformat_minor": 4
}
