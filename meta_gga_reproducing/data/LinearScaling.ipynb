{
 "cells": [
  {
   "cell_type": "markdown",
   "metadata": {},
   "source": [
    "# Extracting Data using OnePY"
   ]
  },
  {
   "cell_type": "code",
   "execution_count": 1,
   "metadata": {},
   "outputs": [],
   "source": [
    "import sys\n",
    "sys.path.insert(0,\"/home/lg3u19/Documents/OnetepUtils/OnePY\")\n",
    "import onetep_v0_1 as op\n",
    "import pathlib\n",
    "import pandas as pd\n",
    "import matplotlib.pyplot as plt\n",
    "import seaborn as sns\n",
    "sns.set()"
   ]
  },
  {
   "cell_type": "code",
   "execution_count": 2,
   "metadata": {},
   "outputs": [],
   "source": [
    "# remove all the slurm .out files from directory\n",
    "#for directory in pathlib.Path.cwd().iterdir():\n",
    " #   if directory.is_dir():\n",
    "  #      !rm $directory/slurm*"
   ]
  },
  {
   "cell_type": "code",
   "execution_count": 3,
   "metadata": {},
   "outputs": [],
   "source": [
    "raw = op.load_from_dir(\"./\",pass_format_flag=False)"
   ]
  },
  {
   "cell_type": "code",
   "execution_count": 5,
   "metadata": {},
   "outputs": [],
   "source": [
    "for key in raw.keys():\n",
    "    for nested_key in raw[key].keys():\n",
    "        raw[key][nested_key].get_all()"
   ]
  },
  {
   "cell_type": "markdown",
   "metadata": {},
   "source": [
    "## Extracting, colating and plotting timings"
   ]
  },
  {
   "cell_type": "code",
   "execution_count": 6,
   "metadata": {},
   "outputs": [
    {
     "data": {
      "text/html": [
       "<div>\n",
       "<style scoped>\n",
       "    .dataframe tbody tr th:only-of-type {\n",
       "        vertical-align: middle;\n",
       "    }\n",
       "\n",
       "    .dataframe tbody tr th {\n",
       "        vertical-align: top;\n",
       "    }\n",
       "\n",
       "    .dataframe thead th {\n",
       "        text-align: right;\n",
       "    }\n",
       "</style>\n",
       "<table border=\"1\" class=\"dataframe\">\n",
       "  <thead>\n",
       "    <tr style=\"text-align: right;\">\n",
       "      <th></th>\n",
       "      <th>time</th>\n",
       "      <th>atoms</th>\n",
       "      <th>time_h</th>\n",
       "    </tr>\n",
       "  </thead>\n",
       "  <tbody>\n",
       "    <tr>\n",
       "      <td>p016</td>\n",
       "      <td>1433.181</td>\n",
       "      <td>1712</td>\n",
       "      <td>0.398106</td>\n",
       "    </tr>\n",
       "    <tr>\n",
       "      <td>p032</td>\n",
       "      <td>2799.869</td>\n",
       "      <td>3424</td>\n",
       "      <td>0.777741</td>\n",
       "    </tr>\n",
       "    <tr>\n",
       "      <td>p048</td>\n",
       "      <td>4403.366</td>\n",
       "      <td>5136</td>\n",
       "      <td>1.223157</td>\n",
       "    </tr>\n",
       "    <tr>\n",
       "      <td>p064</td>\n",
       "      <td>6159.532</td>\n",
       "      <td>6848</td>\n",
       "      <td>1.710981</td>\n",
       "    </tr>\n",
       "    <tr>\n",
       "      <td>p080</td>\n",
       "      <td>7603.914</td>\n",
       "      <td>8560</td>\n",
       "      <td>2.112198</td>\n",
       "    </tr>\n",
       "    <tr>\n",
       "      <td>p096</td>\n",
       "      <td>9042.437</td>\n",
       "      <td>10272</td>\n",
       "      <td>2.511788</td>\n",
       "    </tr>\n",
       "    <tr>\n",
       "      <td>p112</td>\n",
       "      <td>10948.922</td>\n",
       "      <td>11984</td>\n",
       "      <td>3.041367</td>\n",
       "    </tr>\n",
       "    <tr>\n",
       "      <td>p128</td>\n",
       "      <td>12381.340</td>\n",
       "      <td>13696</td>\n",
       "      <td>3.439261</td>\n",
       "    </tr>\n",
       "  </tbody>\n",
       "</table>\n",
       "</div>"
      ],
      "text/plain": [
       "           time  atoms    time_h\n",
       "p016   1433.181   1712  0.398106\n",
       "p032   2799.869   3424  0.777741\n",
       "p048   4403.366   5136  1.223157\n",
       "p064   6159.532   6848  1.710981\n",
       "p080   7603.914   8560  2.112198\n",
       "p096   9042.437  10272  2.511788\n",
       "p112  10948.922  11984  3.041367\n",
       "p128  12381.340  13696  3.439261"
      ]
     },
     "execution_count": 6,
     "metadata": {},
     "output_type": "execute_result"
    }
   ],
   "source": [
    "temp_dict = {}\n",
    "for key in raw.keys():\n",
    "    for nested_key in raw[key].keys():\n",
    "        temp_dict[key]=[raw[key][nested_key].time_total,raw[key][nested_key].atoms_total]\n",
    "timings = pd.DataFrame.from_dict(temp_dict,columns=[\"time\",'atoms'],orient='index')\n",
    "timings = timings.sort_values(by=['time'])\n",
    "timings['time_h']=timings['time']/60.0/60.0\n",
    "timings"
   ]
  },
  {
   "cell_type": "code",
   "execution_count": 10,
   "metadata": {},
   "outputs": [
    {
     "data": {
      "text/plain": [
       "Text(0, 0.5, 'Wall time (h)')"
      ]
     },
     "execution_count": 10,
     "metadata": {},
     "output_type": "execute_result"
    },
    {
     "data": {
      "image/png": "[encoded data removed]",
      "text/plain": [
       "<Figure size 432x288 with 1 Axes>"
      ]
     },
     "metadata": {
      "needs_background": "light"
     },
     "output_type": "display_data"
    }
   ],
   "source": [
    "plot = sns.lineplot(data=timings,x='atoms',y='time_h')\n",
    "plot.set_title(\"Linear Scaling of Single Point Energy in Onetep\")\n",
    "plot.set_xlabel(\"Number of Atoms in System\")\n",
    "plot.set_ylabel(\"Wall time (h)\")"
   ]
  },
  {
   "cell_type": "code",
   "execution_count": 11,
   "metadata": {},
   "outputs": [
    {
     "data": {
      "text/plain": [
       "166.4"
      ]
     },
     "execution_count": 11,
     "metadata": {},
     "output_type": "execute_result"
    }
   ],
   "source": [
    "128*1.3"
   ]
  },
  {
   "cell_type": "code",
   "execution_count": null,
   "metadata": {},
   "outputs": [],
   "source": []
  }
 ],
 "metadata": {
  "kernelspec": {
   "display_name": "Python 3",
   "language": "python",
   "name": "python3"
  },
  "language_info": {
   "codemirror_mode": {
    "name": "ipython",
    "version": 3
   },
   "file_extension": ".py",
   "mimetype": "text/x-python",
   "name": "python",
   "nbconvert_exporter": "python",
   "pygments_lexer": "ipython3",
   "version": "3.6.8"
  }
 },
 "nbformat": 4,
 "nbformat_minor": 4
}
